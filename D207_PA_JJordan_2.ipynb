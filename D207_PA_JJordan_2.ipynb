{
 "cells": [
  {
   "cell_type": "markdown",
   "metadata": {},
   "source": [
    "# <center>MDSA D207 Exploratory Data Analysis</center> \n",
    "\n",
    "\n",
    "\n",
    "## <center>WGU</center>\n",
    "\n"
   ]
  },
  {
   "cell_type": "markdown",
   "metadata": {},
   "source": [
    "\n",
    "### A.  Describe a real-world organizational situation or issue in the Data Dictionary you chose, by doing the following:\n",
    "\n",
    "1.  Provide one question that is relevant to your chosen data set.\n",
    " \n",
    "    - What factors, if any, can be used to predict a customers churn?\n",
    "\n",
    "        - Null hypothesis(H0) - Churn rate for TechSupport and No TechSupport has no significant association\n",
    "        - Alternative hypothesis(H1) - Churn rate for TechSupport and No TechSupport has significant association\n",
    "    \n",
    "\n",
    "2.  Explain how stakeholders in the organization could benefit from an analysis of the data.\n",
    "\n",
    "    - This analysis will help identify any factors that contribute to customer churn.  By identifying factors that contribute to churn, the company can address these factors to reduce churn rate. Since it costs 10 times more to acquire a new customer than to retain an existing one, it could greatly reduce cost the company spends on marketing new customers.  Lowering the annual churn rate could also lead to higher profits for the company.     \n",
    "      \n",
    "\n",
    "3.  Identify all of the data in your data set that are relevant to answering your question in part A1.\n",
    "\n",
    "    - Churn (Categorical/Ordinal) if a customer has discontinued service within the last month  (yes, no)\n",
    "    - TechSupport (Categorical/Ordinal) if a customer has technical support add-on (yes, no)\n",
    "\n",
    "\n"
   ]
  },
  {
   "cell_type": "markdown",
   "metadata": {},
   "source": [
    "### B.  Describe the data analysis by doing the following:\n",
    "\n",
    "1.  Using one of the following techniques, write code (in either Python or R) to run the analysis of the data set:\n",
    "\n",
    "    •   chi-square\n",
    "\n",
    "    •   t-test\n",
    "\n",
    "    •   ANOVA\n",
    "    \n",
    "2.  Provide the output and the results of any calculations from the analysis you performed.\n",
    "\n",
    "Below is the code and ouput for B1 & B2.  A chi-square test will be used. \n"
   ]
  },
  {
   "cell_type": "code",
   "execution_count": 1,
   "metadata": {},
   "outputs": [],
   "source": [
    "# package imports\n",
    "import numpy as np\n",
    "import pandas as pd\n",
    "import matplotlib.pyplot as plt\n",
    "import seaborn as sns\n",
    "import scipy.stats as stats\n",
    "from scipy.stats import chi2"
   ]
  },
  {
   "cell_type": "code",
   "execution_count": 2,
   "metadata": {},
   "outputs": [],
   "source": [
    "# code for data frame\n",
    "churn = pd.read_csv(\"C:/users/jjord/Documents/WGU/D207/PA/churn_clean.csv\")"
   ]
  },
  {
   "cell_type": "code",
   "execution_count": 3,
   "metadata": {},
   "outputs": [
    {
     "name": "stdout",
     "output_type": "stream",
     "text": [
      "<class 'pandas.core.frame.DataFrame'>\n",
      "RangeIndex: 10000 entries, 0 to 9999\n",
      "Data columns (total 50 columns):\n",
      " #   Column                Non-Null Count  Dtype  \n",
      "---  ------                --------------  -----  \n",
      " 0   CaseOrder             10000 non-null  int64  \n",
      " 1   Customer_id           10000 non-null  object \n",
      " 2   Interaction           10000 non-null  object \n",
      " 3   UID                   10000 non-null  object \n",
      " 4   City                  10000 non-null  object \n",
      " 5   State                 10000 non-null  object \n",
      " 6   County                10000 non-null  object \n",
      " 7   Zip                   10000 non-null  int64  \n",
      " 8   Lat                   10000 non-null  float64\n",
      " 9   Lng                   10000 non-null  float64\n",
      " 10  Population            10000 non-null  int64  \n",
      " 11  Area                  10000 non-null  object \n",
      " 12  TimeZone              10000 non-null  object \n",
      " 13  Job                   10000 non-null  object \n",
      " 14  Children              10000 non-null  int64  \n",
      " 15  Age                   10000 non-null  int64  \n",
      " 16  Income                10000 non-null  float64\n",
      " 17  Marital               10000 non-null  object \n",
      " 18  Gender                10000 non-null  object \n",
      " 19  Churn                 10000 non-null  object \n",
      " 20  Outage_sec_perweek    10000 non-null  float64\n",
      " 21  Email                 10000 non-null  int64  \n",
      " 22  Contacts              10000 non-null  int64  \n",
      " 23  Yearly_equip_failure  10000 non-null  int64  \n",
      " 24  Techie                10000 non-null  object \n",
      " 25  Contract              10000 non-null  object \n",
      " 26  Port_modem            10000 non-null  object \n",
      " 27  Tablet                10000 non-null  object \n",
      " 28  InternetService       7871 non-null   object \n",
      " 29  Phone                 10000 non-null  object \n",
      " 30  Multiple              10000 non-null  object \n",
      " 31  OnlineSecurity        10000 non-null  object \n",
      " 32  OnlineBackup          10000 non-null  object \n",
      " 33  DeviceProtection      10000 non-null  object \n",
      " 34  TechSupport           10000 non-null  object \n",
      " 35  StreamingTV           10000 non-null  object \n",
      " 36  StreamingMovies       10000 non-null  object \n",
      " 37  PaperlessBilling      10000 non-null  object \n",
      " 38  PaymentMethod         10000 non-null  object \n",
      " 39  Tenure                10000 non-null  float64\n",
      " 40  MonthlyCharge         10000 non-null  float64\n",
      " 41  Bandwidth_GB_Year     10000 non-null  float64\n",
      " 42  Item1                 10000 non-null  int64  \n",
      " 43  Item2                 10000 non-null  int64  \n",
      " 44  Item3                 10000 non-null  int64  \n",
      " 45  Item4                 10000 non-null  int64  \n",
      " 46  Item5                 10000 non-null  int64  \n",
      " 47  Item6                 10000 non-null  int64  \n",
      " 48  Item7                 10000 non-null  int64  \n",
      " 49  Item8                 10000 non-null  int64  \n",
      "dtypes: float64(7), int64(16), object(27)\n",
      "memory usage: 3.8+ MB\n"
     ]
    }
   ],
   "source": [
    "# Profile of Data Frame\n",
    "churn.info()"
   ]
  },
  {
   "cell_type": "code",
   "execution_count": 4,
   "metadata": {},
   "outputs": [
    {
     "data": {
      "text/plain": [
       "CaseOrder                  0\n",
       "Customer_id                0\n",
       "Interaction                0\n",
       "UID                        0\n",
       "City                       0\n",
       "State                      0\n",
       "County                     0\n",
       "Zip                        0\n",
       "Lat                        0\n",
       "Lng                        0\n",
       "Population                 0\n",
       "Area                       0\n",
       "TimeZone                   0\n",
       "Job                        0\n",
       "Children                   0\n",
       "Age                        0\n",
       "Income                     0\n",
       "Marital                    0\n",
       "Gender                     0\n",
       "Churn                      0\n",
       "Outage_sec_perweek         0\n",
       "Email                      0\n",
       "Contacts                   0\n",
       "Yearly_equip_failure       0\n",
       "Techie                     0\n",
       "Contract                   0\n",
       "Port_modem                 0\n",
       "Tablet                     0\n",
       "InternetService         2129\n",
       "Phone                      0\n",
       "Multiple                   0\n",
       "OnlineSecurity             0\n",
       "OnlineBackup               0\n",
       "DeviceProtection           0\n",
       "TechSupport                0\n",
       "StreamingTV                0\n",
       "StreamingMovies            0\n",
       "PaperlessBilling           0\n",
       "PaymentMethod              0\n",
       "Tenure                     0\n",
       "MonthlyCharge              0\n",
       "Bandwidth_GB_Year          0\n",
       "Item1                      0\n",
       "Item2                      0\n",
       "Item3                      0\n",
       "Item4                      0\n",
       "Item5                      0\n",
       "Item6                      0\n",
       "Item7                      0\n",
       "Item8                      0\n",
       "dtype: int64"
      ]
     },
     "execution_count": 4,
     "metadata": {},
     "output_type": "execute_result"
    }
   ],
   "source": [
    "# Missing values using isnull\n",
    "churn.isnull().sum()"
   ]
  },
  {
   "cell_type": "code",
   "execution_count": 5,
   "metadata": {},
   "outputs": [
    {
     "data": {
      "text/plain": [
       "array(['Fiber Optic', 'DSL', nan], dtype=object)"
      ]
     },
     "execution_count": 5,
     "metadata": {},
     "output_type": "execute_result"
    }
   ],
   "source": [
    "# look at unique values for InternetService\n",
    "churn.InternetService.unique()"
   ]
  },
  {
   "cell_type": "code",
   "execution_count": 6,
   "metadata": {},
   "outputs": [],
   "source": [
    "# Impute nulls for InternetService\n",
    "churn[\"InternetService\"].fillna(\"No Internet Service\", inplace=True)"
   ]
  },
  {
   "cell_type": "code",
   "execution_count": 7,
   "metadata": {},
   "outputs": [
    {
     "data": {
      "text/plain": [
       "0"
      ]
     },
     "execution_count": 7,
     "metadata": {},
     "output_type": "execute_result"
    }
   ],
   "source": [
    "# verify InternetService no longer has nulls\n",
    "churn[\"InternetService\"].isnull().sum()"
   ]
  },
  {
   "cell_type": "markdown",
   "metadata": {},
   "source": [
    "Columns Zip, Lat, Lng currently are floats or ints.  There are not quantitative so will change datatype to object.  These values are not meant for any type of calculation.  Since the rest of the data types for categorical are set to object, these will aslo."
   ]
  },
  {
   "cell_type": "code",
   "execution_count": 8,
   "metadata": {},
   "outputs": [],
   "source": [
    "obj_columns = [\"Zip\", \"Lat\", \"Lng\"]\n",
    "churn[obj_columns] = churn[obj_columns].astype(object)"
   ]
  },
  {
   "cell_type": "code",
   "execution_count": 9,
   "metadata": {},
   "outputs": [],
   "source": [
    "# rename item columns\n",
    "churn.rename(\n",
    "    columns={\n",
    "        \"Item1\": \"Timely_response\",\n",
    "        \"Item2\": \"Timely_fixes\",\n",
    "        \"Item3\": \"Timely_replacements\",\n",
    "        \"Item4\": \"Reliability\",\n",
    "        \"Item5\": \"Options\",\n",
    "        \"Item6\": \"Respectful_response\",\n",
    "        \"Item7\": \"Courteous_exchange\",\n",
    "        \"Item8\": \"Active_listening\",\n",
    "    },\n",
    "    inplace=True,\n",
    ")"
   ]
  },
  {
   "cell_type": "code",
   "execution_count": 10,
   "metadata": {},
   "outputs": [
    {
     "name": "stdout",
     "output_type": "stream",
     "text": [
      "<class 'pandas.core.frame.DataFrame'>\n",
      "RangeIndex: 10000 entries, 0 to 9999\n",
      "Data columns (total 50 columns):\n",
      " #   Column                Non-Null Count  Dtype  \n",
      "---  ------                --------------  -----  \n",
      " 0   CaseOrder             10000 non-null  int64  \n",
      " 1   Customer_id           10000 non-null  object \n",
      " 2   Interaction           10000 non-null  object \n",
      " 3   UID                   10000 non-null  object \n",
      " 4   City                  10000 non-null  object \n",
      " 5   State                 10000 non-null  object \n",
      " 6   County                10000 non-null  object \n",
      " 7   Zip                   10000 non-null  object \n",
      " 8   Lat                   10000 non-null  object \n",
      " 9   Lng                   10000 non-null  object \n",
      " 10  Population            10000 non-null  int64  \n",
      " 11  Area                  10000 non-null  object \n",
      " 12  TimeZone              10000 non-null  object \n",
      " 13  Job                   10000 non-null  object \n",
      " 14  Children              10000 non-null  int64  \n",
      " 15  Age                   10000 non-null  int64  \n",
      " 16  Income                10000 non-null  float64\n",
      " 17  Marital               10000 non-null  object \n",
      " 18  Gender                10000 non-null  object \n",
      " 19  Churn                 10000 non-null  object \n",
      " 20  Outage_sec_perweek    10000 non-null  float64\n",
      " 21  Email                 10000 non-null  int64  \n",
      " 22  Contacts              10000 non-null  int64  \n",
      " 23  Yearly_equip_failure  10000 non-null  int64  \n",
      " 24  Techie                10000 non-null  object \n",
      " 25  Contract              10000 non-null  object \n",
      " 26  Port_modem            10000 non-null  object \n",
      " 27  Tablet                10000 non-null  object \n",
      " 28  InternetService       10000 non-null  object \n",
      " 29  Phone                 10000 non-null  object \n",
      " 30  Multiple              10000 non-null  object \n",
      " 31  OnlineSecurity        10000 non-null  object \n",
      " 32  OnlineBackup          10000 non-null  object \n",
      " 33  DeviceProtection      10000 non-null  object \n",
      " 34  TechSupport           10000 non-null  object \n",
      " 35  StreamingTV           10000 non-null  object \n",
      " 36  StreamingMovies       10000 non-null  object \n",
      " 37  PaperlessBilling      10000 non-null  object \n",
      " 38  PaymentMethod         10000 non-null  object \n",
      " 39  Tenure                10000 non-null  float64\n",
      " 40  MonthlyCharge         10000 non-null  float64\n",
      " 41  Bandwidth_GB_Year     10000 non-null  float64\n",
      " 42  Timely_response       10000 non-null  int64  \n",
      " 43  Timely_fixes          10000 non-null  int64  \n",
      " 44  Timely_replacements   10000 non-null  int64  \n",
      " 45  Reliability           10000 non-null  int64  \n",
      " 46  Options               10000 non-null  int64  \n",
      " 47  Respectful_response   10000 non-null  int64  \n",
      " 48  Courteous_exchange    10000 non-null  int64  \n",
      " 49  Active_listening      10000 non-null  int64  \n",
      "dtypes: float64(5), int64(15), object(30)\n",
      "memory usage: 3.8+ MB\n"
     ]
    }
   ],
   "source": [
    "# Profile of Data Frame after additional cleaning\n",
    "churn.info()"
   ]
  },
  {
   "cell_type": "code",
   "execution_count": 11,
   "metadata": {},
   "outputs": [
    {
     "name": "stdout",
     "output_type": "stream",
     "text": [
      "TechSupport    No   Yes  Totals\n",
      "Churn                          \n",
      "No           4634  2716    7350\n",
      "Yes          1616  1034    2650\n",
      "Totals       6250  3750   10000\n"
     ]
    }
   ],
   "source": [
    "# contingency table creation for columns Churn and TechSupport\n",
    "ct = pd.crosstab(\n",
    "    churn[\"Churn\"], churn[\"TechSupport\"], margins=True, margins_name=\"Totals\"\n",
    ")\n",
    "print(ct)"
   ]
  },
  {
   "cell_type": "code",
   "execution_count": 12,
   "metadata": {},
   "outputs": [
    {
     "name": "stdout",
     "output_type": "stream",
     "text": [
      "Chi2ContingencyResult(statistic=3.5488469601677153, pvalue=0.4704900304752636, dof=4, expected_freq=array([[ 4593.75,  2756.25,  7350.  ],\n",
      "       [ 1656.25,   993.75,  2650.  ],\n",
      "       [ 6250.  ,  3750.  , 10000.  ]]))\n"
     ]
    }
   ],
   "source": [
    "# chi-square test with chi2_contingency (WGU,2024)\n",
    "chi_results = stats.chi2_contingency(ct)\n",
    "print(chi_results)"
   ]
  },
  {
   "cell_type": "code",
   "execution_count": 13,
   "metadata": {},
   "outputs": [
    {
     "name": "stdout",
     "output_type": "stream",
     "text": [
      "Churn rate for TechSupport and No TechSupport has significant association.  NOT REJECTED\n"
     ]
    }
   ],
   "source": [
    "# results from above\n",
    "# statistic = 3.5488469601677153\n",
    "# pvalue = 0.4704900304752636\n",
    "# dof = 4\n",
    "# expected_freq = ([[ 4593.75,  2756.25,  7350.  ],[ 1656.25,   993.75,  2650.  ],[ 6250.  ,  3750.  , 10000.  ]]))\n",
    "\n",
    "pvalue = 0.4704900304752636\n",
    "# interpretation of results based on pvalue and an alpha of 5%\n",
    "alpha = 0.05\n",
    "if pvalue < alpha:\n",
    "    print(\n",
    "        \"Churn rate for TechSupport and No TechSupport has no significant association.  REJECTED\"\n",
    "    )\n",
    "else:\n",
    "    print(\n",
    "        \"Churn rate for TechSupport and No TechSupport has significant association.  NOT REJECTED\"\n",
    "    )"
   ]
  },
  {
   "cell_type": "markdown",
   "metadata": {},
   "source": [
    "### B. Continued\n",
    "3.  Justify why you chose this analysis technique.\n",
    "    - The analysis is using the categorical variables Churn and TechSupport.  A chi-squared test was used because it determines if an assocation exists between two categorical vairables(WGU, 2024).  A t-test was not used becuase it compares means of continuous variables.    An ANOVA test was not used becuase it also compares means of continuous variables.  Since we are using categorical variables and we needed to see if any association existed between them, a chi-squared test was the most suitable option. \n",
    "\n"
   ]
  },
  {
   "cell_type": "markdown",
   "metadata": {},
   "source": [
    "### C.  Identify the distribution of two continuous variables and two categorical variables using univariate statistics from your cleaned and prepared data. \n",
    "\n",
    "Represent your findings in Part C, visually as part of your submission.\n",
    "\n",
    "#### Continuous Variables\n",
    "-  Bandwidth_GB_Year\n",
    "-  Outage_sec_perweek\n",
    "\n",
    "#### Categorical Variables\n",
    "- InternetService\n",
    "- Contract\n",
    " \n"
   ]
  },
  {
   "cell_type": "code",
   "execution_count": 14,
   "metadata": {},
   "outputs": [
    {
     "name": "stderr",
     "output_type": "stream",
     "text": [
      "c:\\Users\\jjord\\anaconda3\\Lib\\site-packages\\seaborn\\_oldcore.py:1119: FutureWarning: use_inf_as_na option is deprecated and will be removed in a future version. Convert inf values to NaN before operating instead.\n",
      "  with pd.option_context('mode.use_inf_as_na', True):\n",
      "c:\\Users\\jjord\\anaconda3\\Lib\\site-packages\\seaborn\\_oldcore.py:1119: FutureWarning: use_inf_as_na option is deprecated and will be removed in a future version. Convert inf values to NaN before operating instead.\n",
      "  with pd.option_context('mode.use_inf_as_na', True):\n"
     ]
    },
    {
     "data": {
      "image/png": "[encoded data removed]",
      "text/plain": [
       "<Figure size 640x480 with 1 Axes>"
      ]
     },
     "metadata": {},
     "output_type": "display_data"
    },
    {
     "data": {
      "image/png": "[encoded data removed]",
      "text/plain": [
       "<Figure size 640x480 with 1 Axes>"
      ]
     },
     "metadata": {},
     "output_type": "display_data"
    }
   ],
   "source": [
    "# list creation for continuous variables\n",
    "cont_var = [\"Bandwidth_GB_Year\", \"Outage_sec_perweek\"]\n",
    "# continuous variable visualizations\n",
    "for n, col in enumerate(churn[cont_var]):\n",
    "    try:\n",
    "        plt.figure(n)\n",
    "        sns.histplot(churn[col][churn[col] > 0], kde=True)\n",
    "    except Exception:\n",
    "        pass"
   ]
  },
  {
   "cell_type": "code",
   "execution_count": 15,
   "metadata": {},
   "outputs": [
    {
     "data": {
      "text/plain": [
       "Text(0.5, 1.0, 'Contract')"
      ]
     },
     "execution_count": 15,
     "metadata": {},
     "output_type": "execute_result"
    },
    {
     "data": {
      "image/png": "[encoded data removed]",
      "text/plain": [
       "<Figure size 2000x500 with 2 Axes>"
      ]
     },
     "metadata": {},
     "output_type": "display_data"
    }
   ],
   "source": [
    "# categorical variable visualizations\n",
    "fig, axes = plt.subplots(1, 2, figsize=(20, 5))\n",
    "sns.countplot(data=churn, x=\"InternetService\", ax=axes[0])\n",
    "axes[0].set_title(\"Internet Services\")\n",
    "sns.countplot(data=churn, x=\"Contract\", ax=axes[1])\n",
    "axes[1].set_title(\"Contract\")"
   ]
  },
  {
   "cell_type": "code",
   "execution_count": 16,
   "metadata": {},
   "outputs": [
    {
     "data": {
      "text/plain": [
       "count    10000.000000\n",
       "mean      3392.341550\n",
       "std       2185.294852\n",
       "min        155.506715\n",
       "25%       1236.470827\n",
       "50%       3279.536903\n",
       "75%       5586.141370\n",
       "max       7158.981530\n",
       "Name: Bandwidth_GB_Year, dtype: float64"
      ]
     },
     "execution_count": 16,
     "metadata": {},
     "output_type": "execute_result"
    }
   ],
   "source": [
    "# descriptive stats Bandwidth_GB_Year\n",
    "churn.Bandwidth_GB_Year.describe()"
   ]
  },
  {
   "cell_type": "code",
   "execution_count": 17,
   "metadata": {},
   "outputs": [
    {
     "data": {
      "text/plain": [
       "count    10000.000000\n",
       "mean        10.001848\n",
       "std          2.976019\n",
       "min          0.099747\n",
       "25%          8.018214\n",
       "50%         10.018560\n",
       "75%         11.969485\n",
       "max         21.207230\n",
       "Name: Outage_sec_perweek, dtype: float64"
      ]
     },
     "execution_count": 17,
     "metadata": {},
     "output_type": "execute_result"
    }
   ],
   "source": [
    "# descriptive stats Outage_sec_perweek\n",
    "churn.Outage_sec_perweek.describe()"
   ]
  },
  {
   "cell_type": "code",
   "execution_count": 18,
   "metadata": {},
   "outputs": [
    {
     "data": {
      "text/plain": [
       "InternetService\n",
       "Fiber Optic            4408\n",
       "DSL                    3463\n",
       "No Internet Service    2129\n",
       "Name: count, dtype: int64"
      ]
     },
     "execution_count": 18,
     "metadata": {},
     "output_type": "execute_result"
    }
   ],
   "source": [
    "# descriptive stats InternetService\n",
    "churn.InternetService.value_counts()"
   ]
  },
  {
   "cell_type": "code",
   "execution_count": 19,
   "metadata": {},
   "outputs": [
    {
     "data": {
      "text/plain": [
       "Contract\n",
       "Month-to-month    5456\n",
       "Two Year          2442\n",
       "One year          2102\n",
       "Name: count, dtype: int64"
      ]
     },
     "execution_count": 19,
     "metadata": {},
     "output_type": "execute_result"
    }
   ],
   "source": [
    "# descriptive stats Contract\n",
    "churn.Contract.value_counts()"
   ]
  },
  {
   "cell_type": "markdown",
   "metadata": {},
   "source": [
    "Bandwidth_GB_Year has a distribution that is bimodal and Outage_sec_perweek has a normal distribution.  InternetService shows Fiber Optic as the most popular choice followed by DSL and No Internet Service respectively.  Contract shows the Month-to-month option being far more popular than Two Year and One year respectively.   "
   ]
  },
  {
   "cell_type": "markdown",
   "metadata": {},
   "source": [
    "### D.  Identify the distribution of two continuous variables and two categorical variables using bivariate statistics from your cleaned and prepared data.\n",
    "\n",
    "Represent your findings in Part D, visually as part of your submission.\n",
    "\n",
    "#### Continuous Variables\n",
    "-  Children\n",
    "-  MonthlyCharge\n",
    "\n",
    "#### Categorical Variables\n",
    "- Churn\n",
    "- Gender\n",
    " \n",
    "\n",
    "\n"
   ]
  },
  {
   "cell_type": "code",
   "execution_count": 20,
   "metadata": {},
   "outputs": [
    {
     "data": {
      "text/plain": [
       "<Axes: xlabel='Children', ylabel='MonthlyCharge'>"
      ]
     },
     "execution_count": 20,
     "metadata": {},
     "output_type": "execute_result"
    },
    {
     "data": {
      "image/png": "[encoded data removed]",
      "text/plain": [
       "<Figure size 640x480 with 1 Axes>"
      ]
     },
     "metadata": {},
     "output_type": "display_data"
    }
   ],
   "source": [
    "# bivariate stats continuous variables\n",
    "sns.boxplot(x=\"Children\", y=\"MonthlyCharge\", data=churn)"
   ]
  },
  {
   "cell_type": "code",
   "execution_count": 21,
   "metadata": {},
   "outputs": [
    {
     "data": {
      "text/html": [
       "<div>\n",
       "<style scoped>\n",
       "    .dataframe tbody tr th:only-of-type {\n",
       "        vertical-align: middle;\n",
       "    }\n",
       "\n",
       "    .dataframe tbody tr th {\n",
       "        vertical-align: top;\n",
       "    }\n",
       "\n",
       "    .dataframe thead th {\n",
       "        text-align: right;\n",
       "    }\n",
       "</style>\n",
       "<table border=\"1\" class=\"dataframe\">\n",
       "  <thead>\n",
       "    <tr style=\"text-align: right;\">\n",
       "      <th></th>\n",
       "      <th>MonthlyCharge</th>\n",
       "      <th>Children</th>\n",
       "    </tr>\n",
       "  </thead>\n",
       "  <tbody>\n",
       "    <tr>\n",
       "      <th>MonthlyCharge</th>\n",
       "      <td>1.000000</td>\n",
       "      <td>-0.009781</td>\n",
       "    </tr>\n",
       "    <tr>\n",
       "      <th>Children</th>\n",
       "      <td>-0.009781</td>\n",
       "      <td>1.000000</td>\n",
       "    </tr>\n",
       "  </tbody>\n",
       "</table>\n",
       "</div>"
      ],
      "text/plain": [
       "               MonthlyCharge  Children\n",
       "MonthlyCharge       1.000000 -0.009781\n",
       "Children           -0.009781  1.000000"
      ]
     },
     "execution_count": 21,
     "metadata": {},
     "output_type": "execute_result"
    }
   ],
   "source": [
    "# correlation between monthlycharge and children\n",
    "churn[[\"MonthlyCharge\", \"Children\"]].corr()"
   ]
  },
  {
   "cell_type": "code",
   "execution_count": 22,
   "metadata": {},
   "outputs": [
    {
     "data": {
      "text/plain": [
       "<Axes: xlabel='Churn', ylabel='count'>"
      ]
     },
     "execution_count": 22,
     "metadata": {},
     "output_type": "execute_result"
    },
    {
     "data": {
      "image/png": "[encoded data removed]",
      "text/plain": [
       "<Figure size 640x480 with 1 Axes>"
      ]
     },
     "metadata": {},
     "output_type": "display_data"
    }
   ],
   "source": [
    "# bivariate stats categorical variables\n",
    "sns.countplot(x=\"Churn\", hue=\"Gender\", data=churn)"
   ]
  },
  {
   "cell_type": "code",
   "execution_count": 23,
   "metadata": {},
   "outputs": [
    {
     "name": "stdout",
     "output_type": "stream",
     "text": [
      "Gender  Female  Male  Nonbinary    All\n",
      "Churn                                 \n",
      "No        3753  3425        172   7350\n",
      "Yes       1272  1319         59   2650\n",
      "All       5025  4744        231  10000\n"
     ]
    }
   ],
   "source": [
    "# correlation between churn and gender\n",
    "bv = pd.crosstab(churn[\"Churn\"], churn[\"Gender\"], margins=True)\n",
    "print(bv)"
   ]
  },
  {
   "cell_type": "markdown",
   "metadata": {},
   "source": [
    "### E.  Summarize the implications of your data analysis by doing the following:\n",
    "\n",
    "1.  Discuss the results of the hypothesis test.\n",
    "    \n",
    "    -  The alpha for the chi-square test is set to 0.05  The analysis shows a p-value of 0.47049 is greater than the alpha and fails to reject the null hypothesis.  At this time, a conclusion cannot be made that there is a correlation between the variables used. \n",
    "\n",
    "        - Null hypothesis(H0) - Churn rate for TechSupport and No TechSupport has no significant association\n",
    "        - Alternative hypothesis(H1) - Churn rate for TechSupport and No TechSupport has significant association\n"
   ]
  },
  {
   "cell_type": "code",
   "execution_count": 24,
   "metadata": {},
   "outputs": [
    {
     "name": "stdout",
     "output_type": "stream",
     "text": [
      "Churn rate for TechSupport and No TechSupport has significant association.  NOT REJECTED\n"
     ]
    }
   ],
   "source": [
    "# copy of code from section B to show what is discussed above\n",
    "pvalue = 0.4704900304752636\n",
    "# interpretation of results based on pvalue and an alpha of 5%\n",
    "alpha = 0.05\n",
    "if pvalue < alpha:\n",
    "    print(\n",
    "        \"Churn rate for TechSupport and No TechSupport has no significant association.  REJECTED\"\n",
    "    )\n",
    "else:\n",
    "    print(\n",
    "        \"Churn rate for TechSupport and No TechSupport has significant association.  NOT REJECTED\"\n",
    "    )"
   ]
  },
  {
   "cell_type": "markdown",
   "metadata": {},
   "source": [
    "#### E.(continued)\n",
    "2.  Discuss the limitations of your data analysis.\n",
    "\n",
    "    - The analysis is using the categorical variables Churn and TechSupport.  A chi-squared test was used because it determines if an assocation exists between two categorical vairables(WGU, 2024).  A t-test was not used becuase it compares means of continuous variables.    An ANOVA test was not used becuase it also compares means of continuous variables.  Since we are using categorical variables and we needed to see if any association existed between them, a chi-squared test was the most suitable option as the other two require the use of numerical variables. \n",
    "\n",
    "    - Another limitation of the analysis is that only two variables were used.  In order to get a better understanding of customer Churn, it would be ideal to consider the addition of other variables for analysis.  Trying to get insight into churn rate on only two variables is not ideal as there are other factors that contribute to churn.    \n",
    "\n",
    "3.  Recommend a course of action based on your results.\n",
    "\n",
    "    - The analysis showed to not reject the null hypothesis and that there was no correlation between the variables.  Even though the null was not rejected, further analysis should be done.  It is recommended that other variables to be added to the analysis and other test be explored as well.  It would also be wise to commend the techincal support team for a job well done as there actions do not influence a customer's churn according to this analysis.   "
   ]
  },
  {
   "cell_type": "markdown",
   "metadata": {},
   "source": [
    "### F.  Panopto Link\n",
    "\n",
    "\n",
    "\n",
    " \n",
    "\n",
    "### G.  Reference the web sources used to acquire segments of third-party code to support the analysis. \n",
    "    WGU (n.d.). A Guide to Conduc􀆟ng Chi-Square Test for Two Categorical Variables using Python. Retrieved March 24, 2024, from\n",
    "    https://srm--c.vf.force.com/apex/CourseArticle?id=kA03x0000015vjWCAQ\n",
    " \n",
    "\n",
    "### H.  Acknowledge sources, using in-text citations and references, for content that is quoted, paraphrased, or summarized.\n",
    "    WGU (n.d.). A Guide to Conduc􀆟ng Chi-Square Test for Two Categorical Variables using Python. Retrieved March 24, 2024, from\n",
    "    https://srm--c.vf.force.com/apex/CourseArticle?id=kA03x0000015vjWCAQ"
   ]
  }
 ],
 "metadata": {
  "kernelspec": {
   "display_name": "base",
   "language": "python",
   "name": "python3"
  },
  "language_info": {
   "codemirror_mode": {
    "name": "ipython",
    "version": 3
   },
   "file_extension": ".py",
   "mimetype": "text/x-python",
   "name": "python",
   "nbconvert_exporter": "python",
   "pygments_lexer": "ipython3",
   "version": "3.11.7"
  }
 },
 "nbformat": 4,
 "nbformat_minor": 2
}
