{
 "cells": [
  {
   "cell_type": "markdown",
   "metadata": {},
   "source": [
    "# <center>MDSA D207 Exploratory Data Analysis</center> \n",
    "\n",
    "## <center>Justin Jordan</center>\n",
    "\n",
    "## <center>3/24/2024</center>\n",
    "\n",
    "## <center>WGU</center>\n",
    "\n"
   ]
  },
  {
   "cell_type": "markdown",
   "metadata": {},
   "source": [
    "\n",
    "### A.  Describe a real-world organizational situation or issue in the Data Dictionary you chose, by doing the following:\n",
    "\n",
    "1.  Provide one question that is relevant to your chosen data set.\n",
    " \n",
    "    - What factors, if any, can be used to predict a customers churn?\n",
    "\n",
    "        - Null hypothesis(H0) - Churn rate for TechSupport and No TechSupport has no significant association\n",
    "        - Alternative hypothesis(H1) - Churn rate for TechSupport and No TechSupport has significant association\n",
    "    \n",
    "\n",
    "2.  Explain how stakeholders in the organization could benefit from an analysis of the data.\n",
    "\n",
    "    - This analysis will help identify any factors that contribute to customer churn.  By identifying factors that contribute to churn, the company can address these factors to reduce churn rate. Since it costs 10 times more to acquire a new customer than to retain an existing one, it could greatly reduce cost the company spends on marketing new customers.  Lowering the annual churn rate could also lead to higher profits for the company.     \n",
    "      \n",
    "\n",
    "3.  Identify all of the data in your data set that are relevant to answering your question in part A1.\n",
    "\n",
    "    - Churn (Categorical/Ordinal) if a customer has discontinued service within the last month  (yes, no)\n",
    "    - TechSupport (Categorical/Ordinal) if a customer has technical support add-on (yes, no)\n",
    "\n",
    "\n"
   ]
  },
  {
   "cell_type": "markdown",
   "metadata": {},
   "source": [
    "### B.  Describe the data analysis by doing the following:\n",
    "\n",
    "1.  Using one of the following techniques, write code (in either Python or R) to run the analysis of the data set:\n",
    "\n",
    "    •   chi-square\n",
    "\n",
    "    •   t-test\n",
    "\n",
    "    •   ANOVA\n",
    "    \n",
    "2.  Provide the output and the results of any calculations from the analysis you performed.\n",
    "\n",
    "Below is the code and ouput for B1 & B2.  A chi-square test will be used. \n"
   ]
  },
  {
   "cell_type": "code",
   "execution_count": null,
   "metadata": {},
   "outputs": [],
   "source": [
    "# package imports\n",
    "import numpy as np\n",
    "import pandas as pd\n",
    "import matplotlib.pyplot as plt\n",
    "import seaborn as sns\n",
    "import scipy.stats as stats\n",
    "from scipy.stats import chi2"
   ]
  },
  {
   "cell_type": "code",
   "execution_count": null,
   "metadata": {},
   "outputs": [],
   "source": [
    "# code for data frame\n",
    "churn = pd.read_csv(\"C:/users/jjord/Documents/WGU/D207/PA/churn_clean.csv\")"
   ]
  },
  {
   "cell_type": "code",
   "execution_count": null,
   "metadata": {},
   "outputs": [],
   "source": [
    "# Profile of Data Frame\n",
    "churn.info()"
   ]
  },
  {
   "cell_type": "code",
   "execution_count": null,
   "metadata": {},
   "outputs": [],
   "source": [
    "# Missing values using isnull\n",
    "churn.isnull().sum()"
   ]
  },
  {
   "cell_type": "code",
   "execution_count": null,
   "metadata": {},
   "outputs": [],
   "source": [
    "# look at unique values for InternetService\n",
    "churn.InternetService.unique()"
   ]
  },
  {
   "cell_type": "code",
   "execution_count": null,
   "metadata": {},
   "outputs": [],
   "source": [
    "# Impute nulls for InternetService\n",
    "churn[\"InternetService\"].fillna(\"No Internet Service\", inplace=True)"
   ]
  },
  {
   "cell_type": "code",
   "execution_count": null,
   "metadata": {},
   "outputs": [],
   "source": [
    "# verify InternetService no longer has nulls\n",
    "churn[\"InternetService\"].isnull().sum()"
   ]
  },
  {
   "cell_type": "markdown",
   "metadata": {},
   "source": [
    "Columns Zip, Lat, Lng currently are floats or ints.  There are not quantitative so will change datatype to object.  These values are not meant for any type of calculation.  Since the rest of the data types for categorical are set to object, these will aslo."
   ]
  },
  {
   "cell_type": "code",
   "execution_count": null,
   "metadata": {},
   "outputs": [],
   "source": [
    "obj_columns = [\"Zip\", \"Lat\", \"Lng\"]\n",
    "churn[obj_columns] = churn[obj_columns].astype(object)"
   ]
  },
  {
   "cell_type": "code",
   "execution_count": null,
   "metadata": {},
   "outputs": [],
   "source": [
    "# rename item columns\n",
    "churn.rename(\n",
    "    columns={\n",
    "        \"Item1\": \"Timely_response\",\n",
    "        \"Item2\": \"Timely_fixes\",\n",
    "        \"Item3\": \"Timely_replacements\",\n",
    "        \"Item4\": \"Reliability\",\n",
    "        \"Item5\": \"Options\",\n",
    "        \"Item6\": \"Respectful_response\",\n",
    "        \"Item7\": \"Courteous_exchange\",\n",
    "        \"Item8\": \"Active_listening\",\n",
    "    },\n",
    "    inplace=True,\n",
    ")"
   ]
  },
  {
   "cell_type": "code",
   "execution_count": null,
   "metadata": {},
   "outputs": [],
   "source": [
    "# Profile of Data Frame after additional cleaning\n",
    "churn.info()"
   ]
  },
  {
   "cell_type": "code",
   "execution_count": null,
   "metadata": {},
   "outputs": [],
   "source": [
    "# contingency table creation for columns Churn and TechSupport\n",
    "ct = pd.crosstab(\n",
    "    churn[\"Churn\"], churn[\"TechSupport\"], margins=True, margins_name=\"Totals\"\n",
    ")\n",
    "print(ct)"
   ]
  },
  {
   "cell_type": "code",
   "execution_count": null,
   "metadata": {},
   "outputs": [],
   "source": [
    "# chi-square test with chi2_contingency (WGU,2024)\n",
    "chi_results = stats.chi2_contingency(ct)\n",
    "print(chi_results)"
   ]
  },
  {
   "cell_type": "code",
   "execution_count": null,
   "metadata": {},
   "outputs": [],
   "source": [
    "# results from above\n",
    "# statistic = 3.5488469601677153\n",
    "# pvalue = 0.4704900304752636\n",
    "# dof = 4\n",
    "# expected_freq = ([[ 4593.75,  2756.25,  7350.  ],[ 1656.25,   993.75,  2650.  ],[ 6250.  ,  3750.  , 10000.  ]]))\n",
    "\n",
    "pvalue = 0.4704900304752636\n",
    "# interpretation of results based on pvalue and an alpha of 5%\n",
    "alpha = 0.05\n",
    "if pvalue < alpha:\n",
    "    print(\n",
    "        \"Churn rate for TechSupport and No TechSupport has no significant association.  REJECTED\"\n",
    "    )\n",
    "else:\n",
    "    print(\n",
    "        \"Churn rate for TechSupport and No TechSupport has significant association.  NOT REJECTED\"\n",
    "    )"
   ]
  },
  {
   "cell_type": "markdown",
   "metadata": {},
   "source": [
    "### B. Continued\n",
    "3.  Justify why you chose this analysis technique.\n",
    "    - The analysis is using the categorical variables Churn and TechSupport.  A chi-squared test was used because it determines if an assocation exists between two categorical vairables(WGU, 2024).  A t-test was not used becuase it compares means of continuous variables.    An ANOVA test was not used becuase it also compares means of continuous variables.  Since we are using categorical variables and we needed to see if any association existed between them, a chi-squared test was the most suitable option. \n",
    "\n"
   ]
  },
  {
   "cell_type": "markdown",
   "metadata": {},
   "source": [
    "### C.  Identify the distribution of two continuous variables and two categorical variables using univariate statistics from your cleaned and prepared data. \n",
    "\n",
    "Represent your findings in Part C, visually as part of your submission.\n",
    "\n",
    "#### Continuous Variables\n",
    "-  Bandwidth_GB_Year\n",
    "-  Outage_sec_perweek\n",
    "\n",
    "#### Categorical Variables\n",
    "- InternetService\n",
    "- Contract\n",
    " \n"
   ]
  },
  {
   "cell_type": "code",
   "execution_count": null,
   "metadata": {},
   "outputs": [],
   "source": [
    "# list creation for continuous variables\n",
    "cont_var = [\"Bandwidth_GB_Year\", \"Outage_sec_perweek\"]\n",
    "# continuous variable visualizations\n",
    "for n, col in enumerate(churn[cont_var]):\n",
    "    try:\n",
    "        plt.figure(n)\n",
    "        sns.histplot(churn[col][churn[col] > 0], kde=True)\n",
    "    except Exception:\n",
    "        pass"
   ]
  },
  {
   "cell_type": "code",
   "execution_count": null,
   "metadata": {},
   "outputs": [],
   "source": [
    "# categorical variable visualizations\n",
    "fig, axes = plt.subplots(1, 2, figsize=(20, 5))\n",
    "sns.countplot(data=churn, x=\"InternetService\", ax=axes[0])\n",
    "axes[0].set_title(\"Internet Services\")\n",
    "sns.countplot(data=churn, x=\"Contract\", ax=axes[1])\n",
    "axes[1].set_title(\"Contract\")"
   ]
  },
  {
   "cell_type": "code",
   "execution_count": null,
   "metadata": {},
   "outputs": [],
   "source": [
    "# descriptive stats Bandwidth_GB_Year\n",
    "churn.Bandwidth_GB_Year.describe()"
   ]
  },
  {
   "cell_type": "code",
   "execution_count": null,
   "metadata": {},
   "outputs": [],
   "source": [
    "# descriptive stats Outage_sec_perweek\n",
    "churn.Outage_sec_perweek.describe()"
   ]
  },
  {
   "cell_type": "code",
   "execution_count": null,
   "metadata": {},
   "outputs": [],
   "source": [
    "# descriptive stats InternetService\n",
    "churn.InternetService.value_counts()"
   ]
  },
  {
   "cell_type": "code",
   "execution_count": null,
   "metadata": {},
   "outputs": [],
   "source": [
    "# descriptive stats Contract\n",
    "churn.Contract.value_counts()"
   ]
  },
  {
   "cell_type": "markdown",
   "metadata": {},
   "source": [
    "Bandwidth_GB_Year has a distribution that is bimodal and Outage_sec_perweek has a normal distribution.  InternetService shows Fiber Optic as the most popular choice followed by DSL and No Internet Service respectively.  Contract shows the Month-to-month option being far more popular than Two Year and One year respectively.   "
   ]
  },
  {
   "cell_type": "markdown",
   "metadata": {},
   "source": [
    "### D.  Identify the distribution of two continuous variables and two categorical variables using bivariate statistics from your cleaned and prepared data.\n",
    "\n",
    "Represent your findings in Part D, visually as part of your submission.\n",
    "\n",
    "#### Continuous Variables\n",
    "-  Children\n",
    "-  MonthlyCharge\n",
    "\n",
    "#### Categorical Variables\n",
    "- Churn\n",
    "- Gender\n",
    " \n",
    "\n",
    "\n"
   ]
  },
  {
   "cell_type": "code",
   "execution_count": null,
   "metadata": {},
   "outputs": [],
   "source": [
    "# bivariate stats continuous variables\n",
    "sns.boxplot(x=\"Children\", y=\"MonthlyCharge\", data=churn)"
   ]
  },
  {
   "cell_type": "code",
   "execution_count": null,
   "metadata": {},
   "outputs": [],
   "source": [
    "# correlation between monthlycharge and children\n",
    "churn[[\"MonthlyCharge\", \"Children\"]].corr()"
   ]
  },
  {
   "cell_type": "code",
   "execution_count": null,
   "metadata": {},
   "outputs": [],
   "source": [
    "# bivariate stats categorical variables\n",
    "sns.countplot(x=\"Churn\", hue=\"Gender\", data=churn)"
   ]
  },
  {
   "cell_type": "code",
   "execution_count": null,
   "metadata": {},
   "outputs": [],
   "source": [
    "# correlation between churn and gender\n",
    "bv = pd.crosstab(churn[\"Churn\"], churn[\"Gender\"], margins=True)\n",
    "print(bv)"
   ]
  },
  {
   "cell_type": "markdown",
   "metadata": {},
   "source": [
    "### E.  Summarize the implications of your data analysis by doing the following:\n",
    "\n",
    "1.  Discuss the results of the hypothesis test.\n",
    "    \n",
    "    -  The alpha for the chi-square test is set to 0.05  The analysis shows a p-value of 0.47049 is greater than the alpha and fails to reject the null hypothesis.  At this time, a conclusion cannot be made that there is a correlation between the variables used. \n",
    "\n",
    "        - Null hypothesis(H0) - Churn rate for TechSupport and No TechSupport has no significant association\n",
    "        - Alternative hypothesis(H1) - Churn rate for TechSupport and No TechSupport has significant association\n"
   ]
  },
  {
   "cell_type": "code",
   "execution_count": null,
   "metadata": {},
   "outputs": [],
   "source": [
    "# copy of code from section B to show what is discussed above\n",
    "pvalue = 0.4704900304752636\n",
    "# interpretation of results based on pvalue and an alpha of 5%\n",
    "alpha = 0.05\n",
    "if pvalue < alpha:\n",
    "    print(\n",
    "        \"Churn rate for TechSupport and No TechSupport has no significant association.  REJECTED\"\n",
    "    )\n",
    "else:\n",
    "    print(\n",
    "        \"Churn rate for TechSupport and No TechSupport has significant association.  NOT REJECTED\"\n",
    "    )"
   ]
  },
  {
   "cell_type": "markdown",
   "metadata": {},
   "source": [
    "#### E.(continued)\n",
    "2.  Discuss the limitations of your data analysis.\n",
    "\n",
    "    - The analysis is using the categorical variables Churn and TechSupport.  A chi-squared test was used because it determines if an assocation exists between two categorical vairables(WGU, 2024).  A t-test was not used becuase it compares means of continuous variables.    An ANOVA test was not used becuase it also compares means of continuous variables.  Since we are using categorical variables and we needed to see if any association existed between them, a chi-squared test was the most suitable option as the other two require the use of numerical variables. \n",
    "\n",
    "    - Another limitation of the analysis is that only two variables were used.  In order to get a better understanding of customer Churn, it would be ideal to consider the addition of other variables for analysis.  Trying to get insight into churn rate on only two variables is not ideal as there are other factors that contribute to churn.    \n",
    "\n",
    "3.  Recommend a course of action based on your results.\n",
    "\n",
    "    - The analysis showed to not reject the null hypothesis and that there was no correlation between the variables.  Even though the null was not rejected, further analysis should be done.  It is recommended that other variables to be added to the analysis and other test be explored as well.  It would also be wise to commend the techincal support team for a job well done as there actions do not influence a customer's churn according to this analysis.   "
   ]
  },
  {
   "cell_type": "markdown",
   "metadata": {},
   "source": [
    "### F.  Panopto Link\n",
    "\n",
    " https://wgu.hosted.panopto.com/Panopto/Pages/Viewer.aspx?id=f3c25a43-36ac-47cb-85b5-b1400017131e\n",
    "\n",
    " \n",
    "\n",
    "### G.  Reference the web sources used to acquire segments of third-party code to support the analysis. \n",
    "    WGU (n.d.). A Guide to Conduc􀆟ng Chi-Square Test for Two Categorical Variables using Python. Retrieved March 24, 2024, from\n",
    "    https://srm--c.vf.force.com/apex/CourseArticle?id=kA03x0000015vjWCAQ\n",
    " \n",
    "\n",
    "### H.  Acknowledge sources, using in-text citations and references, for content that is quoted, paraphrased, or summarized.\n",
    "    WGU (n.d.). A Guide to Conduc􀆟ng Chi-Square Test for Two Categorical Variables using Python. Retrieved March 24, 2024, from\n",
    "    https://srm--c.vf.force.com/apex/CourseArticle?id=kA03x0000015vjWCAQ"
   ]
  }
 ],
 "metadata": {
  "kernelspec": {
   "display_name": "base",
   "language": "python",
   "name": "python3"
  },
  "language_info": {
   "codemirror_mode": {
    "name": "ipython",
    "version": 3
   },
   "file_extension": ".py",
   "mimetype": "text/x-python",
   "name": "python",
   "nbconvert_exporter": "python",
   "pygments_lexer": "ipython3",
   "version": "undefined.undefined.undefined"
  }
 },
 "nbformat": 4,
 "nbformat_minor": 2
}
