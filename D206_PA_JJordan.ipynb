{
 "cells": [
  {
   "cell_type": "markdown",
   "metadata": {},
   "source": [
    "# <center>MDSA D206 Data Cleaning</center> \n",
    "\n",
    "\n",
    "\n",
    "## <center>WGU</center>\n",
    "\n"
   ]
  },
  {
   "cell_type": "markdown",
   "metadata": {},
   "source": [
    "\n",
    "# Part I:  Research Question\n",
    "\n",
    "### A.  Description of Question\n",
    "\n",
    "What factors, if any, can be used to predict a customers churn?\n",
    "\n",
    "\n",
    "### B.  Description of all variables within data set with data type and example.\n",
    "\n",
    "In order to look at all vairables we first need to setup our environment.  First we will import any packages needed.\n"
   ]
  },
  {
   "cell_type": "code",
   "execution_count": 85,
   "metadata": {},
   "outputs": [],
   "source": [
    "# package imports\n",
    "import numpy as np\n",
    "import pandas as pd\n",
    "import missingno as msno\n",
    "import matplotlib.pyplot as plt\n",
    "from sklearn.decomposition import PCA\n",
    "from sklearn import preprocessing\n",
    "import seaborn as sns\n",
    "import scipy.stats as stats\n",
    "import random"
   ]
  },
  {
   "cell_type": "markdown",
   "metadata": {},
   "source": [
    "### Data Frame Setup\n",
    "\n",
    "We then setup our data frame from the data set provided using the pd.read_csv function from pandas.\n",
    "\n",
    "\n"
   ]
  },
  {
   "cell_type": "code",
   "execution_count": 86,
   "metadata": {},
   "outputs": [],
   "source": [
    "# code for data frame\n",
    "churn = pd.read_csv(\"C:/users/jjord/Documents/WGU/D206/PA/churn_raw_data.csv\")"
   ]
  },
  {
   "cell_type": "markdown",
   "metadata": {},
   "source": [
    "After we have imported our CSV into our data frame, we can then use the .info() function to get our variable info.  This info will include variable name, counts and data types. "
   ]
  },
  {
   "cell_type": "code",
   "execution_count": 87,
   "metadata": {},
   "outputs": [
    {
     "name": "stdout",
     "output_type": "stream",
     "text": [
      "<class 'pandas.core.frame.DataFrame'>\n",
      "RangeIndex: 10000 entries, 0 to 9999\n",
      "Data columns (total 52 columns):\n",
      " #   Column                Non-Null Count  Dtype  \n",
      "---  ------                --------------  -----  \n",
      " 0   Unnamed: 0            10000 non-null  int64  \n",
      " 1   CaseOrder             10000 non-null  int64  \n",
      " 2   Customer_id           10000 non-null  object \n",
      " 3   Interaction           10000 non-null  object \n",
      " 4   City                  10000 non-null  object \n",
      " 5   State                 10000 non-null  object \n",
      " 6   County                10000 non-null  object \n",
      " 7   Zip                   10000 non-null  int64  \n",
      " 8   Lat                   10000 non-null  float64\n",
      " 9   Lng                   10000 non-null  float64\n",
      " 10  Population            10000 non-null  int64  \n",
      " 11  Area                  10000 non-null  object \n",
      " 12  Timezone              10000 non-null  object \n",
      " 13  Job                   10000 non-null  object \n",
      " 14  Children              7505 non-null   float64\n",
      " 15  Age                   7525 non-null   float64\n",
      " 16  Education             10000 non-null  object \n",
      " 17  Employment            10000 non-null  object \n",
      " 18  Income                7510 non-null   float64\n",
      " 19  Marital               10000 non-null  object \n",
      " 20  Gender                10000 non-null  object \n",
      " 21  Churn                 10000 non-null  object \n",
      " 22  Outage_sec_perweek    10000 non-null  float64\n",
      " 23  Email                 10000 non-null  int64  \n",
      " 24  Contacts              10000 non-null  int64  \n",
      " 25  Yearly_equip_failure  10000 non-null  int64  \n",
      " 26  Techie                7523 non-null   object \n",
      " 27  Contract              10000 non-null  object \n",
      " 28  Port_modem            10000 non-null  object \n",
      " 29  Tablet                10000 non-null  object \n",
      " 30  InternetService       7871 non-null   object \n",
      " 31  Phone                 8974 non-null   object \n",
      " 32  Multiple              10000 non-null  object \n",
      " 33  OnlineSecurity        10000 non-null  object \n",
      " 34  OnlineBackup          10000 non-null  object \n",
      " 35  DeviceProtection      10000 non-null  object \n",
      " 36  TechSupport           9009 non-null   object \n",
      " 37  StreamingTV           10000 non-null  object \n",
      " 38  StreamingMovies       10000 non-null  object \n",
      " 39  PaperlessBilling      10000 non-null  object \n",
      " 40  PaymentMethod         10000 non-null  object \n",
      " 41  Tenure                9069 non-null   float64\n",
      " 42  MonthlyCharge         10000 non-null  float64\n",
      " 43  Bandwidth_GB_Year     8979 non-null   float64\n",
      " 44  item1                 10000 non-null  int64  \n",
      " 45  item2                 10000 non-null  int64  \n",
      " 46  item3                 10000 non-null  int64  \n",
      " 47  item4                 10000 non-null  int64  \n",
      " 48  item5                 10000 non-null  int64  \n",
      " 49  item6                 10000 non-null  int64  \n",
      " 50  item7                 10000 non-null  int64  \n",
      " 51  item8                 10000 non-null  int64  \n",
      "dtypes: float64(9), int64(15), object(28)\n",
      "memory usage: 4.0+ MB\n"
     ]
    }
   ],
   "source": [
    "# Profile of Data Frame\n",
    "churn.info()"
   ]
  },
  {
   "cell_type": "markdown",
   "metadata": {},
   "source": [
    "# Part II: Data-Cleaning Plan\n",
    "\n",
    "### C.  Explanation of Plan for Data Cleaning\n",
    "\n",
    "1.  Python will used to asses the quality of the data within the data set.  The data set will first be checked for duplicate records.  If any dulpicates are found using the .duplicated() function, they will be removed from the data set.  Once we have dealt with any duplicates, we will move on to identifiying any missing data within the data set.  In order to determine if there are any missing values, we will use the .isnull().sum() function.  This function will return the column names within the data set as well as a count of any missing values for each column.  Once we have determined any missing values, we will use the msno.matrix() function to visualize the missing values.  We will then visualize each column that has any missing values individually.  To do this, we will use the plt.hist() function.  This function will create a histogram so we can better examine the missing values.  This method can only be used on quantitative data types.  For qualitative data types with missing values, we will use the value_counts() function.  \n",
    "\n",
    "Once we have identified any missing values, we can then determine the proper way to treat them.  Treatment methods that will be considered are deletion and imputation.  Deletion includes removing either variables(columns) or observations(rows).  Deletion will only be used if a variable is missing beyond 60% of its data or an observation is 5% or less.(Middleton, 2023)  Imputation includes using Univariate statistical imputation, backward/forward fill, multiple imputation by chained equations or K-nearest neighbor.(Middleton, 2023)  Imputation will replace a missing value with a substitute value from the data set.  Once we visualize any missing data, we can then determine which method we will use to treat the missing data.  \n",
    "\n",
    "After missing values have been treated, we can then look for any outliers within the data frame.  To visualize any outliers we will be using Seaborn and the .boxplot() function.  Once we have determined if any outliers exsist, we can treat them.  Treatment methods include imputation, retention, exclusion and removal.  Each  method has their advantages and disadvantages and will be taken into consideration when examining any outliers. Outliers will only be detected on numeric data types. \n",
    "\n",
    "Finally, PCA will be performed on any numerical variables within the data set. \n",
    "\n",
    "2.  CLeaning data is the most important part of data analysis.  When using the methods above to clean the data, we can ensure that our analysis and conclusion of the data are accurate.  Missing values and outliers can greatly effect outcomes and possibly lead to misinfomation given to the business.  By using different techniques and visualizations, we can determine the best way to clean the data so the business has an accurate representation.  Multiple treatment methods are mentioned above but not all will be used.  Once we get a better understanding of the data at hand, we can then choose the best method for treatment.  \n",
    "\n",
    "3.  We will be using Python as the programming language for the data cleaning process.  Python is a widely used language in data analysis.  JupyterNotebook will be used as well.  It will allow us to combine the use of mardown and code cells into one file.  We will also be using certain libraries within Python.  Those libraries include Pandas, Numpy, Matplotlib, Missingno, Seaborn and sklearn.  Pandas will be used to import the data set into a data frame.  Numpy will be used for any array's needed.  Matplotlib and Seaborn will be used for visualization.  Missingno will be used for detecting missing values and visualization.  Sklearn will be used for the PCA.  \n",
    "\n",
    "4.  The following section will include the code with comments of what the code does and well as the output of the code.\n",
    "\n"
   ]
  },
  {
   "cell_type": "code",
   "execution_count": 88,
   "metadata": {},
   "outputs": [
    {
     "name": "stdout",
     "output_type": "stream",
     "text": [
      "        Unnamed: 0    CaseOrder           Zip           Lat           Lng  \\\n",
      "count  10000.00000  10000.00000  10000.000000  10000.000000  10000.000000   \n",
      "mean    5000.50000   5000.50000  49153.319600     38.757567    -90.782536   \n",
      "std     2886.89568   2886.89568  27532.196108      5.437389     15.156142   \n",
      "min        1.00000      1.00000    601.000000     17.966120   -171.688150   \n",
      "25%     2500.75000   2500.75000  26292.500000     35.341828    -97.082812   \n",
      "50%     5000.50000   5000.50000  48869.500000     39.395800    -87.918800   \n",
      "75%     7500.25000   7500.25000  71866.500000     42.106908    -80.088745   \n",
      "max    10000.00000  10000.00000  99929.000000     70.640660    -65.667850   \n",
      "\n",
      "          Population     Children          Age         Income  \\\n",
      "count   10000.000000  7505.000000  7525.000000    7510.000000   \n",
      "mean     9756.562400     2.095936    53.275748   39936.762226   \n",
      "std     14432.698671     2.154758    20.753928   28358.469482   \n",
      "min         0.000000     0.000000    18.000000     740.660000   \n",
      "25%       738.000000     0.000000    35.000000   19285.522500   \n",
      "50%      2910.500000     1.000000    53.000000   33186.785000   \n",
      "75%     13168.000000     3.000000    71.000000   53472.395000   \n",
      "max    111850.000000    10.000000    89.000000  258900.700000   \n",
      "\n",
      "       Outage_sec_perweek         Email      Contacts  Yearly_equip_failure  \\\n",
      "count        10000.000000  10000.000000  10000.000000          10000.000000   \n",
      "mean            11.452955     12.016000      0.994200              0.398000   \n",
      "std              7.025921      3.025898      0.988466              0.635953   \n",
      "min             -1.348571      1.000000      0.000000              0.000000   \n",
      "25%              8.054362     10.000000      0.000000              0.000000   \n",
      "50%             10.202896     12.000000      1.000000              0.000000   \n",
      "75%             12.487644     14.000000      2.000000              1.000000   \n",
      "max             47.049280     23.000000      7.000000              6.000000   \n",
      "\n",
      "            Tenure  MonthlyCharge  Bandwidth_GB_Year         item1  \\\n",
      "count  9069.000000   10000.000000        8979.000000  10000.000000   \n",
      "mean     34.498858     174.076305        3398.842752      3.490800   \n",
      "std      26.438904      43.335473        2187.396807      1.037797   \n",
      "min       1.000259      77.505230         155.506715      1.000000   \n",
      "25%       7.890442     141.071078        1234.110529      3.000000   \n",
      "50%      36.196030     169.915400        3382.424000      3.000000   \n",
      "75%      61.426670     203.777441        5587.096500      4.000000   \n",
      "max      71.999280     315.878600        7158.982000      7.000000   \n",
      "\n",
      "              item2         item3         item4         item5         item6  \\\n",
      "count  10000.000000  10000.000000  10000.000000  10000.000000  10000.000000   \n",
      "mean       3.505100      3.487000      3.497500      3.492900      3.497300   \n",
      "std        1.034641      1.027977      1.025816      1.024819      1.033586   \n",
      "min        1.000000      1.000000      1.000000      1.000000      1.000000   \n",
      "25%        3.000000      3.000000      3.000000      3.000000      3.000000   \n",
      "50%        4.000000      3.000000      3.000000      3.000000      3.000000   \n",
      "75%        4.000000      4.000000      4.000000      4.000000      4.000000   \n",
      "max        7.000000      8.000000      7.000000      7.000000      8.000000   \n",
      "\n",
      "              item7         item8  \n",
      "count  10000.000000  10000.000000  \n",
      "mean       3.509500      3.495600  \n",
      "std        1.028502      1.028633  \n",
      "min        1.000000      1.000000  \n",
      "25%        3.000000      3.000000  \n",
      "50%        4.000000      3.000000  \n",
      "75%        4.000000      4.000000  \n",
      "max        7.000000      8.000000  \n"
     ]
    }
   ],
   "source": [
    "with pd.option_context(\"display.max_columns\", 40):\n",
    "    print(churn.describe(include=[np.number]))"
   ]
  },
  {
   "cell_type": "code",
   "execution_count": 89,
   "metadata": {},
   "outputs": [
    {
     "data": {
      "text/plain": [
       "0       False\n",
       "1       False\n",
       "2       False\n",
       "3       False\n",
       "4       False\n",
       "        ...  \n",
       "9995    False\n",
       "9996    False\n",
       "9997    False\n",
       "9998    False\n",
       "9999    False\n",
       "Length: 10000, dtype: bool"
      ]
     },
     "execution_count": 89,
     "metadata": {},
     "output_type": "execute_result"
    }
   ],
   "source": [
    "# Duplicate Detection\n",
    "# False means no duplicate\n",
    "churn.duplicated()"
   ]
  },
  {
   "cell_type": "code",
   "execution_count": 90,
   "metadata": {},
   "outputs": [
    {
     "name": "stdout",
     "output_type": "stream",
     "text": [
      "False    10000\n",
      "Name: count, dtype: int64\n"
     ]
    }
   ],
   "source": [
    "# how many duplicates\n",
    "print(churn.duplicated().value_counts())"
   ]
  },
  {
   "cell_type": "markdown",
   "metadata": {},
   "source": [
    "We can see from the above code that no duplicates were found within the data. \n",
    "\n",
    "\n",
    "\n",
    "Next we will look at any missing values."
   ]
  },
  {
   "cell_type": "code",
   "execution_count": 91,
   "metadata": {},
   "outputs": [
    {
     "data": {
      "text/plain": [
       "Unnamed: 0                 0\n",
       "CaseOrder                  0\n",
       "Customer_id                0\n",
       "Interaction                0\n",
       "City                       0\n",
       "State                      0\n",
       "County                     0\n",
       "Zip                        0\n",
       "Lat                        0\n",
       "Lng                        0\n",
       "Population                 0\n",
       "Area                       0\n",
       "Timezone                   0\n",
       "Job                        0\n",
       "Children                2495\n",
       "Age                     2475\n",
       "Education                  0\n",
       "Employment                 0\n",
       "Income                  2490\n",
       "Marital                    0\n",
       "Gender                     0\n",
       "Churn                      0\n",
       "Outage_sec_perweek         0\n",
       "Email                      0\n",
       "Contacts                   0\n",
       "Yearly_equip_failure       0\n",
       "Techie                  2477\n",
       "Contract                   0\n",
       "Port_modem                 0\n",
       "Tablet                     0\n",
       "InternetService         2129\n",
       "Phone                   1026\n",
       "Multiple                   0\n",
       "OnlineSecurity             0\n",
       "OnlineBackup               0\n",
       "DeviceProtection           0\n",
       "TechSupport              991\n",
       "StreamingTV                0\n",
       "StreamingMovies            0\n",
       "PaperlessBilling           0\n",
       "PaymentMethod              0\n",
       "Tenure                   931\n",
       "MonthlyCharge              0\n",
       "Bandwidth_GB_Year       1021\n",
       "item1                      0\n",
       "item2                      0\n",
       "item3                      0\n",
       "item4                      0\n",
       "item5                      0\n",
       "item6                      0\n",
       "item7                      0\n",
       "item8                      0\n",
       "dtype: int64"
      ]
     },
     "execution_count": 91,
     "metadata": {},
     "output_type": "execute_result"
    }
   ],
   "source": [
    "# Missing values using isnull\n",
    "churn.isnull().sum()"
   ]
  },
  {
   "cell_type": "markdown",
   "metadata": {},
   "source": [
    "The above code shows missing values detected in the following columns:  Children, Age, Income, Techie, InternetService, Phone, TechSupport, Tenure and Bandwidth_GB_Year\n",
    "\n",
    " "
   ]
  },
  {
   "cell_type": "markdown",
   "metadata": {},
   "source": [
    "We will now use missingno to visualize each column that contains missing values. "
   ]
  },
  {
   "cell_type": "code",
   "execution_count": 92,
   "metadata": {},
   "outputs": [
    {
     "data": {
      "image/png": "[encoded data removed]",
      "text/plain": [
       "<Figure size 2500x1000 with 2 Axes>"
      ]
     },
     "metadata": {},
     "output_type": "display_data"
    }
   ],
   "source": [
    "# Visulazation of missing values using missingno\n",
    "msno.matrix(churn, fontsize=12, labels=True)\n",
    "plt.title(\"Missing data matrix\")\n",
    "plt.show()"
   ]
  },
  {
   "cell_type": "markdown",
   "metadata": {},
   "source": [
    "We will now look at unquie values within each column"
   ]
  },
  {
   "cell_type": "code",
   "execution_count": 93,
   "metadata": {},
   "outputs": [
    {
     "name": "stdout",
     "output_type": "stream",
     "text": [
      "Unnamed: 0\n",
      "[    1     2     3 ...  9998  9999 10000]\n",
      "CaseOrder\n",
      "[    1     2     3 ...  9998  9999 10000]\n",
      "Customer_id\n",
      "['K409198' 'S120509' 'K191035' ... 'I243405' 'I641617' 'T38070']\n",
      "Interaction\n",
      "['aa90260b-4141-4a24-8e36-b04ce1f4f77b'\n",
      " 'fb76459f-c047-4a9d-8af9-e0f7d4ac2524'\n",
      " '344d114c-3736-4be5-98f7-c72c281e2d35' ...\n",
      " 'e8307ddf-9a01-4fff-bc59-4742e03fd24f'\n",
      " '3775ccfc-0052-4107-81ae-9657f81ecdf3'\n",
      " '9de5fb6e-bd33-4995-aec8-f01d0172a499']\n",
      "City\n",
      "['Point Baker' 'West Branch' 'Yamhill' ... 'Haubstadt' 'West Kill'\n",
      " 'Clarkesville']\n",
      "State\n",
      "['AK' 'MI' 'OR' 'CA' 'TX' 'GA' 'TN' 'OK' 'FL' 'OH' 'PA' 'PR' 'IA' 'ME'\n",
      " 'IL' 'WI' 'NC' 'AL' 'NM' 'VT' 'MD' 'NY' 'WA' 'CT' 'NJ' 'DC' 'ND' 'LA'\n",
      " 'NE' 'WV' 'AZ' 'MO' 'WY' 'MT' 'VA' 'KY' 'MN' 'KS' 'MA' 'IN' 'SC' 'NH'\n",
      " 'DE' 'MS' 'ID' 'AR' 'SD' 'CO' 'HI' 'UT' 'RI' 'NV']\n",
      "County\n",
      "['Prince of Wales-Hyder' 'Ogemaw' 'Yamhill' ... 'Billings' 'Haralson'\n",
      " 'Briscoe']\n",
      "Zip\n",
      "[99927 48661 97148 ...  5758 37042 30523]\n",
      "Lat\n",
      "[56.251   44.32893 45.35589 ... 43.43391 36.56907 34.70783]\n",
      "Lng\n",
      "[-133.37571  -84.2408  -123.24657 ...  -72.78734  -87.41694  -83.53648]\n",
      "Population\n",
      "[   38 10446  3735 ...  4261 77168 12230]\n",
      "Area\n",
      "['Urban' 'Suburban' 'Rural']\n",
      "Timezone\n",
      "['America/Sitka' 'America/Detroit' 'America/Los_Angeles' 'America/Chicago'\n",
      " 'America/New_York' 'America/Puerto_Rico' 'America/Denver'\n",
      " 'America/Menominee' 'America/Phoenix' 'America/Indiana/Indianapolis'\n",
      " 'America/Boise' 'America/Kentucky/Louisville' 'Pacific/Honolulu'\n",
      " 'America/Indiana/Petersburg' 'America/Nome' 'America/Anchorage'\n",
      " 'America/Indiana/Knox' 'America/Juneau' 'America/Toronto'\n",
      " 'America/Indiana/Winamac' 'America/Indiana/Vincennes'\n",
      " 'America/North_Dakota/New_Salem' 'America/Indiana/Tell_City'\n",
      " 'America/Indiana/Marengo' 'America/Ojinaga']\n",
      "Job\n",
      "['Environmental health practitioner' 'Programmer, multimedia'\n",
      " 'Chief Financial Officer' 'Solicitor' 'Medical illustrator'\n",
      " 'Chief Technology Officer' 'Surveyor, hydrographic'\n",
      " 'Sales promotion account executive' 'Teaching laboratory technician'\n",
      " 'Museum education officer' 'Teacher, special educational needs'\n",
      " 'Maintenance engineer' 'Engineer, broadcasting (operations)'\n",
      " 'Learning disability nurse' 'Automotive engineer'\n",
      " 'Amenity horticulturist' 'Applications developer' 'Immunologist'\n",
      " 'Engineer, electrical' 'Broadcast presenter' 'Counsellor'\n",
      " 'Geophysical data processor' 'Designer, multimedia' 'Event organiser'\n",
      " 'Equality and diversity officer' 'Psychiatrist'\n",
      " 'Surveyor, commercial/residential' 'Civil Service administrator'\n",
      " 'Radiographer, diagnostic' 'Air traffic controller' 'Dietitian'\n",
      " 'Therapist, occupational' 'Building services engineer'\n",
      " 'Information officer' 'Outdoor activities/education manager'\n",
      " 'Market researcher' 'Surveyor, insurance' 'Office manager'\n",
      " 'Editorial assistant' 'Customer service manager'\n",
      " 'Production designer, theatre/television/film' 'Analytical chemist'\n",
      " 'Print production planner' 'Conservation officer, nature'\n",
      " 'Librarian, public' 'Financial adviser' 'Surveyor, building'\n",
      " 'Horticulturist, amenity' 'Diagnostic radiographer'\n",
      " 'Doctor, general practice' 'Insurance risk surveyor' 'Heritage manager'\n",
      " 'Legal executive' 'Professor Emeritus' 'Radio producer'\n",
      " \"Barrister's clerk\" 'Engineer, automotive' 'Recruitment consultant'\n",
      " 'Commercial horticulturist' 'Pharmacist, community'\n",
      " 'Forest/woodland manager' 'Designer, graphic'\n",
      " 'Civil engineer, consulting' 'Science writer'\n",
      " 'Health and safety inspector' 'Administrator, Civil Service'\n",
      " 'Technical sales engineer' 'Special educational needs teacher'\n",
      " 'Sports therapist' 'Engineer, communications' 'Oceanographer'\n",
      " 'Archaeologist' 'Personal assistant' 'Animal nutritionist' 'Hydrologist'\n",
      " 'Arts development officer' 'Herpetologist' 'Medical sales representative'\n",
      " 'Scientist, research (physical sciences)' 'Higher education lecturer'\n",
      " 'Nurse, adult' 'Chiropodist' 'Therapeutic radiographer'\n",
      " 'Designer, television/film set' 'Education officer, environmental'\n",
      " 'Colour technologist' 'Academic librarian' 'Mudlogger'\n",
      " 'Designer, textile' 'Chief Strategy Officer' 'Loss adjuster, chartered'\n",
      " 'Pharmacologist' 'Hydrographic surveyor' 'Engineer, manufacturing'\n",
      " 'Research scientist (medical)' 'Wellsite geologist'\n",
      " 'Embryologist, clinical' 'Occupational psychologist'\n",
      " 'Sales professional, IT' 'Advertising copywriter'\n",
      " 'Radiographer, therapeutic' 'English as a second language teacher'\n",
      " 'Occupational therapist'\n",
      " 'Armed forces logistics/support/administrative officer'\n",
      " 'Technical author' 'Regulatory affairs officer' 'Optician, dispensing'\n",
      " 'Theme park manager' 'IT trainer' 'Contracting civil engineer'\n",
      " 'Psychologist, sport and exercise' 'Manufacturing engineer' 'Musician'\n",
      " 'Senior tax professional/tax inspector' 'Engineer, biomedical'\n",
      " 'Facilities manager' 'Osteopath' 'Corporate investment banker'\n",
      " 'Psychotherapist' 'Copywriter, advertising' 'Horticultural consultant'\n",
      " 'Microbiologist' 'Educational psychologist'\n",
      " 'Sport and exercise psychologist' 'Risk manager' 'Health visitor'\n",
      " 'Visual merchandiser' 'Clinical biochemist' 'Water quality scientist'\n",
      " 'Optometrist' 'Petroleum engineer' 'Building control surveyor'\n",
      " 'Financial planner' 'Theatre director' 'Secretary, company'\n",
      " 'Materials engineer' 'Civil Service fast streamer'\n",
      " 'Health service manager' 'Scientist, forensic' 'Immigration officer'\n",
      " 'Dealer' 'Planning and development surveyor' 'Broadcast engineer'\n",
      " 'Local government officer' 'Nature conservation officer'\n",
      " 'Private music teacher' 'Geologist, wellsite' 'Gaffer' 'Curator'\n",
      " 'Editor, commissioning' 'Barrister' 'TEFL teacher'\n",
      " 'Public relations account executive' 'Audiological scientist'\n",
      " 'Travel agency manager' 'Land' 'Music therapist' 'Librarian, academic'\n",
      " 'Film/video editor' 'Journalist, broadcasting' 'Waste management officer'\n",
      " 'Scientist, water quality' 'Sub' 'Neurosurgeon'\n",
      " 'Scientist, research (maths)' 'Public house manager' 'Building surveyor'\n",
      " 'Animator' 'Production assistant, television' 'Transport planner'\n",
      " 'Geneticist, molecular' 'Merchant navy officer'\n",
      " 'Research scientist (life sciences)' 'Engineer, building services'\n",
      " 'Solicitor, Scotland' 'Hospital pharmacist' 'Engineer, petroleum'\n",
      " 'Oncologist' 'IT technical support officer' 'Site engineer'\n",
      " 'Early years teacher' 'Plant breeder/geneticist'\n",
      " 'Chartered management accountant' 'Runner, broadcasting/film/video'\n",
      " 'Newspaper journalist' 'Naval architect' 'Agricultural engineer'\n",
      " 'Meteorologist' 'Designer, ceramics/pottery'\n",
      " 'Environmental education officer' 'Textile designer'\n",
      " 'Engineer, materials' 'Magazine journalist' 'Conference centre manager'\n",
      " 'Dance movement psychotherapist' 'Warden/ranger'\n",
      " 'Teacher, English as a foreign language'\n",
      " 'Producer, television/film/video' 'Make' 'Pharmacist, hospital'\n",
      " 'Therapist, horticultural' 'Journalist, newspaper' 'Retail merchandiser'\n",
      " 'Nurse, mental health' 'Chief of Staff' 'Systems analyst'\n",
      " 'Electronics engineer' 'Quantity surveyor' 'Minerals surveyor'\n",
      " 'Scientist, research (life sciences)' 'Archivist' 'Brewing technologist'\n",
      " 'Investment banker, operational' 'Accountant, chartered certified'\n",
      " 'Surveyor, minerals' 'Hospital doctor' 'Theatre stage manager'\n",
      " 'Operational researcher' 'Tax inspector' 'Television camera operator'\n",
      " 'Arts administrator' 'Patent attorney' 'Bonds trader' 'Ship broker'\n",
      " 'Furniture conservator/restorer' 'Media planner'\n",
      " 'Radio broadcast assistant' 'Mental health nurse' 'Purchasing manager'\n",
      " 'Scientist, biomedical' 'Photographer' 'Sports coach'\n",
      " 'Environmental manager' 'Estate agent' 'Public librarian'\n",
      " 'Designer, blown glass/stained glass' 'Occupational hygienist' 'Surgeon'\n",
      " 'Youth worker' 'Hotel manager' 'Programmer, systems'\n",
      " \"Politician's assistant\" 'Social researcher' 'Publishing copy'\n",
      " 'Tax adviser' 'Quarry manager' 'Buyer, industrial' 'Production manager'\n",
      " 'Police officer' 'Theatre manager' 'Sports administrator'\n",
      " 'Research scientist (maths)' 'Therapist, music' 'Soil scientist'\n",
      " 'Holiday representative' 'Producer, radio' 'Intelligence analyst'\n",
      " 'Geochemist' 'Probation officer' 'Fish farm manager'\n",
      " 'Chartered accountant' 'Architect' 'Psychiatric nurse' 'Farm manager'\n",
      " 'Geoscientist' 'Lecturer, further education' 'Horticulturist, commercial'\n",
      " 'Surveyor, quantity' 'Clothing/textile technologist' 'Technical brewer'\n",
      " 'Landscape architect' 'Information systems manager' 'Sales executive'\n",
      " 'Exercise physiologist' 'Administrator, arts' 'Careers adviser'\n",
      " 'Lobbyist' 'Claims inspector/assessor' 'Recycling officer'\n",
      " 'Product/process development scientist' 'Paramedic' 'Fine artist'\n",
      " 'Teacher, secondary school' 'Data processing manager'\n",
      " 'Government social research officer' 'Product manager'\n",
      " 'Accounting technician' 'Engineer, land' 'Lawyer' 'Restaurant manager'\n",
      " 'Catering manager' 'Contractor' 'Research officer, government'\n",
      " 'Medical secretary' 'Podiatrist' 'Phytotherapist'\n",
      " 'Surveyor, building control' 'Comptroller'\n",
      " 'Lighting technician, broadcasting/film/video' 'Paediatric nurse'\n",
      " 'Designer, furniture' 'Adult guidance worker'\n",
      " 'Clinical molecular geneticist' 'Games developer' 'Metallurgist'\n",
      " 'Armed forces technical officer' 'Risk analyst'\n",
      " 'Careers information officer' 'Garment/textile technologist'\n",
      " 'Multimedia specialist' 'Trade union research officer'\n",
      " 'Museum/gallery exhibitions officer' 'Armed forces operational officer'\n",
      " 'Air broker' 'Mechanical engineer' 'Ceramics designer' 'Airline pilot'\n",
      " 'Trading standards officer' 'Advice worker' 'Music tutor'\n",
      " 'Leisure centre manager' 'Surveyor, rural practice'\n",
      " 'Scientist, physiological' 'Fisheries officer'\n",
      " 'Research officer, trade union' 'Licensed conveyancer'\n",
      " \"Nurse, children's\" 'Museum/gallery curator' 'Psychologist, occupational'\n",
      " 'Astronomer' 'Therapist, drama' 'Therapist, speech and language'\n",
      " 'Surveyor, land/geomatics' 'Production assistant, radio'\n",
      " 'Human resources officer' 'Fast food restaurant manager' 'Orthoptist'\n",
      " 'Public relations officer' 'Bookseller' 'Health and safety adviser'\n",
      " 'Clinical cytogeneticist' 'Ergonomist'\n",
      " 'Psychologist, prison and probation services' 'Actuary'\n",
      " 'Scientist, clinical (histocompatibility and immunogenetics)'\n",
      " 'Community development worker' 'Consulting civil engineer'\n",
      " 'Television production assistant' 'Veterinary surgeon'\n",
      " 'Teacher, adult education' 'Civil engineer, contracting'\n",
      " 'Architectural technologist' 'Volunteer coordinator'\n",
      " 'Primary school teacher' 'Insurance underwriter'\n",
      " 'Research officer, political party' 'Radiation protection practitioner'\n",
      " 'Psychotherapist, child' 'Interior and spatial designer'\n",
      " 'Therapist, nutritional' 'Jewellery designer' 'Press sub'\n",
      " 'Clinical scientist, histocompatibility and immunogenetics'\n",
      " 'Administrator, sports' 'Insurance account manager'\n",
      " 'Museum/gallery conservator' 'Furniture designer' 'Haematologist'\n",
      " 'Associate Professor' 'Physicist, medical' 'Pathologist'\n",
      " 'Chartered public finance accountant' 'Printmaker' 'Surveyor, mining'\n",
      " 'Chief Marketing Officer' 'General practice doctor' 'Chemical engineer'\n",
      " 'Forensic scientist' 'Marketing executive' 'Art gallery manager'\n",
      " 'Therapist, sports' 'Insurance claims handler' 'Secondary school teacher'\n",
      " 'Development worker, international aid' 'Quality manager'\n",
      " 'Conservator, furniture' 'Tour manager'\n",
      " 'Control and instrumentation engineer' 'Adult nurse'\n",
      " 'Diplomatic Services operational officer' 'Cartographer' 'Chiropractor'\n",
      " 'Land/geomatics surveyor' 'Statistician' 'Financial trader'\n",
      " 'Special effects artist' 'Clinical psychologist'\n",
      " 'Further education lecturer' 'Engineer, water' 'Energy manager'\n",
      " 'Education administrator' 'Art therapist' 'Television floor manager'\n",
      " 'Legal secretary' 'Merchandiser, retail' 'Web designer'\n",
      " 'Nurse, learning disability' 'International aid/development worker'\n",
      " 'Warehouse manager' 'Engineer, mining' 'Exhibition designer'\n",
      " 'Administrator, local government' 'Water engineer' 'Physiotherapist'\n",
      " 'Engineer, electronics' 'Equities trader' 'Telecommunications researcher'\n",
      " 'Hydrogeologist' 'Community education officer' 'Engineer, energy'\n",
      " 'Scientist, audiological' 'Patent examiner' 'Retail manager'\n",
      " 'Engineer, aeronautical' 'Engineer, site' 'Engineer, civil (contracting)'\n",
      " 'Proofreader' 'Scientist, marine' 'Speech and language therapist'\n",
      " 'IT sales professional' 'Buyer, retail' 'Network engineer'\n",
      " 'Commercial art gallery manager'\n",
      " 'Chartered legal executive (England and Wales)' 'Presenter, broadcasting'\n",
      " 'Surveyor, planning and development'\n",
      " 'Research scientist (physical sciences)' 'Commissioning editor'\n",
      " 'Operational investment banker' 'Seismic interpreter' 'Charity officer'\n",
      " 'English as a foreign language teacher' 'Scientist, research (medical)'\n",
      " 'Designer, interior/spatial' 'Lexicographer' 'Therapist, art'\n",
      " 'Clinical embryologist' 'Child psychotherapist' 'Midwife'\n",
      " 'Pensions consultant' 'Tree surgeon' 'Health physicist' 'Artist'\n",
      " 'Company secretary' 'Fashion designer' 'IT consultant'\n",
      " 'Teacher, early years/pre' 'Geographical information systems officer'\n",
      " 'Tourist information centre manager' 'Biomedical engineer'\n",
      " 'Biomedical scientist' 'Financial risk analyst' 'Multimedia programmer'\n",
      " 'Engineer, control and instrumentation' 'Insurance broker'\n",
      " 'Drilling engineer' 'Development worker, community'\n",
      " 'Designer, industrial/product' 'Medical technical officer'\n",
      " 'Advertising account executive' 'Counselling psychologist'\n",
      " 'Tourism officer' 'Dancer' 'Social research officer, government'\n",
      " 'Teacher, music' 'Translator' 'Race relations officer'\n",
      " 'Engineer, civil (consulting)'\n",
      " 'Historic buildings inspector/conservation officer' 'Financial manager'\n",
      " 'Financial controller' 'Designer, jewellery' 'Retail banker'\n",
      " 'Administrator, charities/voluntary organisations'\n",
      " 'Magazine features editor' 'Psychotherapist, dance movement' 'Barista'\n",
      " 'Passenger transport manager' 'Mining engineer'\n",
      " 'Administrator, education'\n",
      " 'Programme researcher, broadcasting/film/video' 'Ranger/warden' 'Actor'\n",
      " 'Pension scheme manager' 'Investment analyst' 'Physiological scientist'\n",
      " 'Advertising art director' 'Sports development officer'\n",
      " 'Manufacturing systems engineer' 'Accommodation manager'\n",
      " 'Television/film/video producer' 'Accountant, chartered'\n",
      " 'Engineer, agricultural' 'Horticultural therapist' 'Economist'\n",
      " 'Training and development officer' 'Engineer, maintenance'\n",
      " 'Logistics and distribution manager' 'Psychologist, clinical'\n",
      " 'Accountant, chartered management' 'Rural practice surveyor'\n",
      " 'Biochemist, clinical' 'Set designer' 'Nutritional therapist'\n",
      " 'Illustrator' 'Designer, exhibition/display'\n",
      " 'Armed forces training and education officer' 'Location manager'\n",
      " 'Charity fundraiser' 'Community pharmacist'\n",
      " 'Geophysicist/field seismologist' 'Designer, fashion/clothing'\n",
      " 'Computer games developer' 'Acupuncturist' 'Database administrator'\n",
      " 'Stage manager' 'Operations geologist' 'Marine scientist'\n",
      " 'Glass blower/designer' 'Corporate treasurer' 'Ecologist'\n",
      " 'Structural engineer' 'Housing manager/officer' 'Chief Operating Officer'\n",
      " 'Engineer, manufacturing systems' 'Herbalist' 'Editor, film/video'\n",
      " 'Retail buyer' 'Doctor, hospital' 'Prison officer' 'Ophthalmologist'\n",
      " 'Chemist, analytical' 'Chartered certified accountant' 'Industrial buyer'\n",
      " 'Video editor' 'Publishing rights manager' 'Engineer, drilling'\n",
      " 'Food technologist' 'Arboriculturist' 'Engineer, technical sales'\n",
      " 'Systems developer' 'Firefighter' 'Education officer, museum'\n",
      " 'Media buyer' 'Records manager' 'Aid worker' 'Pilot, airline'\n",
      " 'Advertising account planner' 'Psychologist, counselling'\n",
      " 'Environmental consultant' 'Copy' 'Trade mark attorney'\n",
      " 'Psychologist, forensic' 'Social worker' 'Administrator'\n",
      " 'Agricultural consultant' 'Education officer, community'\n",
      " 'Management consultant' 'Field trials officer' 'Graphic designer'\n",
      " 'Teacher, primary school' 'Homeopath' 'Cabin crew'\n",
      " 'Editor, magazine features' 'Medical physicist'\n",
      " 'Medical laboratory scientific officer' 'Press photographer'\n",
      " 'Field seismologist' 'Estate manager/land agent'\n",
      " 'Industrial/product designer' 'Software engineer' 'Air cabin crew'\n",
      " 'Freight forwarder' 'Engineer, structural' 'Fitness centre manager'\n",
      " 'Interpreter' 'Scientific laboratory technician' 'Data scientist'\n",
      " 'Electrical engineer' 'Clinical research associate'\n",
      " 'Engineering geologist' 'Call centre manager' 'Psychologist, educational'\n",
      " 'Conservator, museum/gallery' 'Emergency planning/management officer'\n",
      " 'Communications engineer' 'Conservation officer, historic buildings'\n",
      " 'Cytogeneticist' 'Personnel officer' 'Dramatherapist'\n",
      " 'Investment banker, corporate' 'Camera operator'\n",
      " 'Chartered loss adjuster' 'Health promotion specialist'\n",
      " 'Scientist, product/process development' 'Learning mentor'\n",
      " 'Lecturer, higher education' 'Sound technician, broadcasting/film/video'\n",
      " 'Restaurant manager, fast food' 'Engineer, maintenance (IT)'\n",
      " 'Energy engineer' 'Dispensing optician' 'Chief Executive Officer'\n",
      " 'Ambulance person' 'Public affairs consultant' 'Product designer'\n",
      " 'Community arts worker' 'Higher education careers adviser' 'Dentist'\n",
      " 'Exhibitions officer, museum/gallery' 'Futures trader'\n",
      " 'Commercial/residential surveyor' 'Engineer, production'\n",
      " 'Animal technologist' 'Banker' 'Programmer, applications' 'Best boy'\n",
      " 'Secretary/administrator' 'Journalist, magazine' 'Production engineer'\n",
      " 'Accountant, chartered public finance' 'Geologist, engineering'\n",
      " 'Aeronautical engineer' 'Engineer, chemical' 'Forensic psychologist'\n",
      " 'Broadcast journalist' 'Town planner' 'Toxicologist' 'Writer']\n",
      "Children\n",
      "[nan  1.  4.  0.  3.  2.  7.  5.  9.  6. 10.  8.]\n",
      "Age\n",
      "[68. 27. 50. 48. 83. nan 49. 86. 23. 56. 30. 39. 63. 60. 61. 52. 75. 77.\n",
      " 47. 70. 69. 45. 40. 82. 26. 25. 66. 72. 41. 44. 43. 84. 59. 31. 51. 58.\n",
      " 73. 33. 42. 81. 87. 54. 67. 46. 24. 20. 71. 32. 29. 80. 53. 79. 65. 35.\n",
      " 34. 74. 55. 76. 57. 38. 78. 19. 36. 88. 62. 37. 28. 22. 85. 89. 18. 21.\n",
      " 64.]\n",
      "Education\n",
      "[\"Master's Degree\" 'Regular High School Diploma' 'Doctorate Degree'\n",
      " 'No Schooling Completed' \"Associate's Degree\" \"Bachelor's Degree\"\n",
      " 'Some College, Less than 1 Year' 'GED or Alternative Credential'\n",
      " 'Some College, 1 or More Years, No Degree'\n",
      " '9th Grade to 12th Grade, No Diploma' 'Nursery School to 8th Grade'\n",
      " 'Professional School Degree']\n",
      "Employment\n",
      "['Part Time' 'Retired' 'Student' 'Full Time' 'Unemployed']\n",
      "Income\n",
      "[28561.99 21704.77      nan ... 56384.35 55723.74 16667.58]\n",
      "Marital\n",
      "['Widowed' 'Married' 'Separated' 'Never Married' 'Divorced']\n",
      "Gender\n",
      "['Male' 'Female' 'Prefer not to answer']\n",
      "Churn\n",
      "['No' 'Yes']\n",
      "Outage_sec_perweek\n",
      "[ 6.97256609 12.01454108 10.24561565 ...  4.837696   12.07646\n",
      " 12.64176   ]\n",
      "Email\n",
      "[10 12  9 15 16 20 18 17 14 13 11  8  6  5 19  3  7 21  4  2  1 23 22]\n",
      "Contacts\n",
      "[0 2 3 1 4 5 6 7]\n",
      "Yearly_equip_failure\n",
      "[1 0 3 2 4 6]\n",
      "Techie\n",
      "['No' 'Yes' nan]\n",
      "Contract\n",
      "['One year' 'Month-to-month' 'Two Year']\n",
      "Port_modem\n",
      "['Yes' 'No']\n",
      "Tablet\n",
      "['Yes' 'No']\n",
      "InternetService\n",
      "['Fiber Optic' 'DSL' nan]\n",
      "Phone\n",
      "['Yes' 'No' nan]\n",
      "Multiple\n",
      "['No' 'Yes']\n",
      "OnlineSecurity\n",
      "['Yes' 'No']\n",
      "OnlineBackup\n",
      "['Yes' 'No']\n",
      "DeviceProtection\n",
      "['No' 'Yes']\n",
      "TechSupport\n",
      "['No' 'Yes' nan]\n",
      "StreamingTV\n",
      "['No' 'Yes']\n",
      "StreamingMovies\n",
      "['Yes' 'No']\n",
      "PaperlessBilling\n",
      "['Yes' 'No']\n",
      "PaymentMethod\n",
      "['Credit Card (automatic)' 'Bank Transfer(automatic)' 'Mailed Check'\n",
      " 'Electronic Check']\n",
      "Tenure\n",
      "[ 6.79551295  1.156681   15.75414408 ... 61.04037    71.0956\n",
      " 63.35086   ]\n",
      "MonthlyCharge\n",
      "[171.4497621 242.9480155 159.4403984 ... 168.2209    252.6286\n",
      " 218.371    ]\n",
      "Bandwidth_GB_Year\n",
      "[ 904.5361102  800.9827661 2054.706961  ... 4159.306     6468.457\n",
      " 5857.586    ]\n",
      "item1\n",
      "[5 3 4 6 2 1 7]\n",
      "item2\n",
      "[5 4 3 2 6 1 7]\n",
      "item3\n",
      "[5 3 2 4 6 1 7 8]\n",
      "item4\n",
      "[3 4 2 5 7 6 1]\n",
      "item5\n",
      "[4 5 1 2 3 7 6]\n",
      "item6\n",
      "[4 3 5 2 6 7 1 8]\n",
      "item7\n",
      "[3 4 5 2 6 7 1]\n",
      "item8\n",
      "[4 3 5 2 1 6 7 8]\n"
     ]
    }
   ],
   "source": [
    "for col in churn:\n",
    "    print(col)\n",
    "    print(churn[col].unique())"
   ]
  },
  {
   "cell_type": "markdown",
   "metadata": {},
   "source": [
    "Below, we will check to see what percentage of each column is missing to determine treatment method.  "
   ]
  },
  {
   "cell_type": "code",
   "execution_count": 94,
   "metadata": {},
   "outputs": [
    {
     "data": {
      "text/plain": [
       "Unnamed: 0               0.00\n",
       "CaseOrder                0.00\n",
       "Customer_id              0.00\n",
       "Interaction              0.00\n",
       "City                     0.00\n",
       "State                    0.00\n",
       "County                   0.00\n",
       "Zip                      0.00\n",
       "Lat                      0.00\n",
       "Lng                      0.00\n",
       "Population               0.00\n",
       "Area                     0.00\n",
       "Timezone                 0.00\n",
       "Job                      0.00\n",
       "Children                24.95\n",
       "Age                     24.75\n",
       "Education                0.00\n",
       "Employment               0.00\n",
       "Income                  24.90\n",
       "Marital                  0.00\n",
       "Gender                   0.00\n",
       "Churn                    0.00\n",
       "Outage_sec_perweek       0.00\n",
       "Email                    0.00\n",
       "Contacts                 0.00\n",
       "Yearly_equip_failure     0.00\n",
       "Techie                  24.77\n",
       "Contract                 0.00\n",
       "Port_modem               0.00\n",
       "Tablet                   0.00\n",
       "InternetService         21.29\n",
       "Phone                   10.26\n",
       "Multiple                 0.00\n",
       "OnlineSecurity           0.00\n",
       "OnlineBackup             0.00\n",
       "DeviceProtection         0.00\n",
       "TechSupport              9.91\n",
       "StreamingTV              0.00\n",
       "StreamingMovies          0.00\n",
       "PaperlessBilling         0.00\n",
       "PaymentMethod            0.00\n",
       "Tenure                   9.31\n",
       "MonthlyCharge            0.00\n",
       "Bandwidth_GB_Year       10.21\n",
       "item1                    0.00\n",
       "item2                    0.00\n",
       "item3                    0.00\n",
       "item4                    0.00\n",
       "item5                    0.00\n",
       "item6                    0.00\n",
       "item7                    0.00\n",
       "item8                    0.00\n",
       "dtype: float64"
      ]
     },
     "execution_count": 94,
     "metadata": {},
     "output_type": "execute_result"
    }
   ],
   "source": [
    "# percentage of missing\n",
    "churn.isnull().mean() * 100"
   ]
  },
  {
   "cell_type": "markdown",
   "metadata": {},
   "source": [
    "Since none of the columns are within the threshold for deleteion, that will not be an option for treatment.  "
   ]
  },
  {
   "cell_type": "markdown",
   "metadata": {},
   "source": [
    "We will now use the plt.hist() function to visualize each columns missing valued on a histogram. This will help determine which method of imputation we will use to clean the missing values. \n",
    "\n",
    "Note, for columns that are not numerical will not use plt.hist() function.  "
   ]
  },
  {
   "cell_type": "code",
   "execution_count": 95,
   "metadata": {},
   "outputs": [
    {
     "data": {
      "image/png": "[encoded data removed]",
      "text/plain": [
       "<Figure size 640x480 with 1 Axes>"
      ]
     },
     "metadata": {},
     "output_type": "display_data"
    }
   ],
   "source": [
    "# distribution examanation of Children column\n",
    "plt.hist(churn[\"Children\"])\n",
    "plt.show()"
   ]
  },
  {
   "cell_type": "code",
   "execution_count": 96,
   "metadata": {},
   "outputs": [
    {
     "data": {
      "image/png": "[encoded data removed]",
      "text/plain": [
       "<Figure size 640x480 with 1 Axes>"
      ]
     },
     "metadata": {},
     "output_type": "display_data"
    }
   ],
   "source": [
    "# distribution examination of Age column\n",
    "plt.hist(churn[\"Age\"])\n",
    "plt.show()"
   ]
  },
  {
   "cell_type": "code",
   "execution_count": 97,
   "metadata": {},
   "outputs": [
    {
     "data": {
      "image/png": "[encoded data removed]",
      "text/plain": [
       "<Figure size 640x480 with 1 Axes>"
      ]
     },
     "metadata": {},
     "output_type": "display_data"
    }
   ],
   "source": [
    "# distribution examination of Income column\n",
    "plt.hist(churn[\"Income\"])\n",
    "plt.show()"
   ]
  },
  {
   "cell_type": "code",
   "execution_count": 98,
   "metadata": {},
   "outputs": [
    {
     "data": {
      "image/png": "[encoded data removed]",
      "text/plain": [
       "<Figure size 640x480 with 1 Axes>"
      ]
     },
     "metadata": {},
     "output_type": "display_data"
    }
   ],
   "source": [
    "# distribution examination of Tenure column\n",
    "plt.hist(churn[\"Tenure\"])\n",
    "plt.show()"
   ]
  },
  {
   "cell_type": "code",
   "execution_count": 99,
   "metadata": {},
   "outputs": [
    {
     "data": {
      "image/png": "[encoded data removed]",
      "text/plain": [
       "<Figure size 640x480 with 1 Axes>"
      ]
     },
     "metadata": {},
     "output_type": "display_data"
    }
   ],
   "source": [
    "# distribution examination of Bandwidth_GB_Year column\n",
    "plt.hist(churn[\"Bandwidth_GB_Year\"])\n",
    "plt.show()"
   ]
  },
  {
   "cell_type": "code",
   "execution_count": 100,
   "metadata": {},
   "outputs": [
    {
     "data": {
      "text/plain": [
       "array(['No', 'Yes', nan], dtype=object)"
      ]
     },
     "execution_count": 100,
     "metadata": {},
     "output_type": "execute_result"
    }
   ],
   "source": [
    "# look at unique values for Techie\n",
    "churn.Techie.unique()"
   ]
  },
  {
   "cell_type": "code",
   "execution_count": 101,
   "metadata": {},
   "outputs": [
    {
     "data": {
      "text/plain": [
       "Techie\n",
       "No     6266\n",
       "Yes    1257\n",
       "Name: count, dtype: int64"
      ]
     },
     "execution_count": 101,
     "metadata": {},
     "output_type": "execute_result"
    }
   ],
   "source": [
    "# look at values in Techie\n",
    "churn.Techie.value_counts()"
   ]
  },
  {
   "cell_type": "code",
   "execution_count": 102,
   "metadata": {},
   "outputs": [
    {
     "data": {
      "text/plain": [
       "array(['Fiber Optic', 'DSL', nan], dtype=object)"
      ]
     },
     "execution_count": 102,
     "metadata": {},
     "output_type": "execute_result"
    }
   ],
   "source": [
    "# look at unique values for InternetService\n",
    "churn.InternetService.unique()"
   ]
  },
  {
   "cell_type": "code",
   "execution_count": 103,
   "metadata": {},
   "outputs": [
    {
     "data": {
      "text/plain": [
       "InternetService\n",
       "Fiber Optic    4408\n",
       "DSL            3463\n",
       "Name: count, dtype: int64"
      ]
     },
     "execution_count": 103,
     "metadata": {},
     "output_type": "execute_result"
    }
   ],
   "source": [
    "# look at values in InternetService\n",
    "churn.InternetService.value_counts()"
   ]
  },
  {
   "cell_type": "code",
   "execution_count": 104,
   "metadata": {},
   "outputs": [
    {
     "data": {
      "text/plain": [
       "Phone\n",
       "Yes    8128\n",
       "No      846\n",
       "Name: count, dtype: int64"
      ]
     },
     "execution_count": 104,
     "metadata": {},
     "output_type": "execute_result"
    }
   ],
   "source": [
    "# look at values in Phone\n",
    "churn.Phone.value_counts()"
   ]
  },
  {
   "cell_type": "code",
   "execution_count": 105,
   "metadata": {},
   "outputs": [
    {
     "data": {
      "text/plain": [
       "TechSupport\n",
       "No     5635\n",
       "Yes    3374\n",
       "Name: count, dtype: int64"
      ]
     },
     "execution_count": 105,
     "metadata": {},
     "output_type": "execute_result"
    }
   ],
   "source": [
    "# look at values in TechSupport\n",
    "churn.TechSupport.value_counts()"
   ]
  },
  {
   "cell_type": "markdown",
   "metadata": {},
   "source": [
    "Detection of outliers"
   ]
  },
  {
   "cell_type": "code",
   "execution_count": 106,
   "metadata": {},
   "outputs": [
    {
     "data": {
      "image/png": "[encoded data removed]",
      "text/plain": [
       "<Figure size 640x480 with 1 Axes>"
      ]
     },
     "metadata": {},
     "output_type": "display_data"
    }
   ],
   "source": [
    "boxplot = sns.boxplot(x=\"Population\", data=churn)"
   ]
  },
  {
   "cell_type": "code",
   "execution_count": 107,
   "metadata": {},
   "outputs": [
    {
     "data": {
      "image/png": "[encoded data removed]",
      "text/plain": [
       "<Figure size 640x480 with 1 Axes>"
      ]
     },
     "metadata": {},
     "output_type": "display_data"
    }
   ],
   "source": [
    "boxplot = sns.boxplot(x=\"Children\", data=churn)"
   ]
  },
  {
   "cell_type": "code",
   "execution_count": 108,
   "metadata": {},
   "outputs": [
    {
     "data": {
      "image/png": "[encoded data removed]",
      "text/plain": [
       "<Figure size 640x480 with 1 Axes>"
      ]
     },
     "metadata": {},
     "output_type": "display_data"
    }
   ],
   "source": [
    "boxplot = sns.boxplot(x=\"Age\", data=churn)"
   ]
  },
  {
   "cell_type": "code",
   "execution_count": 109,
   "metadata": {},
   "outputs": [
    {
     "data": {
      "image/png": "[encoded data removed]",
      "text/plain": [
       "<Figure size 640x480 with 1 Axes>"
      ]
     },
     "metadata": {},
     "output_type": "display_data"
    }
   ],
   "source": [
    "boxplot = sns.boxplot(x=\"Income\", data=churn)"
   ]
  },
  {
   "cell_type": "code",
   "execution_count": 110,
   "metadata": {},
   "outputs": [
    {
     "data": {
      "image/png": "[encoded data removed]",
      "text/plain": [
       "<Figure size 640x480 with 1 Axes>"
      ]
     },
     "metadata": {},
     "output_type": "display_data"
    }
   ],
   "source": [
    "boxplot = sns.boxplot(x=\"Outage_sec_perweek\", data=churn)"
   ]
  },
  {
   "cell_type": "code",
   "execution_count": 111,
   "metadata": {},
   "outputs": [
    {
     "data": {
      "image/png": "[encoded data removed]",
      "text/plain": [
       "<Figure size 640x480 with 1 Axes>"
      ]
     },
     "metadata": {},
     "output_type": "display_data"
    }
   ],
   "source": [
    "boxplot = sns.boxplot(x=\"Tenure\", data=churn)"
   ]
  },
  {
   "cell_type": "code",
   "execution_count": 112,
   "metadata": {},
   "outputs": [
    {
     "data": {
      "image/png": "[encoded data removed]",
      "text/plain": [
       "<Figure size 640x480 with 1 Axes>"
      ]
     },
     "metadata": {},
     "output_type": "display_data"
    }
   ],
   "source": [
    "boxplot = sns.boxplot(x=\"MonthlyCharge\", data=churn)"
   ]
  },
  {
   "cell_type": "code",
   "execution_count": 113,
   "metadata": {},
   "outputs": [
    {
     "data": {
      "image/png": "[encoded data removed]",
      "text/plain": [
       "<Figure size 640x480 with 1 Axes>"
      ]
     },
     "metadata": {},
     "output_type": "display_data"
    }
   ],
   "source": [
    "boxplot = sns.boxplot(x=\"Bandwidth_GB_Year\", data=churn)"
   ]
  },
  {
   "cell_type": "markdown",
   "metadata": {},
   "source": [
    "Further exploration"
   ]
  },
  {
   "cell_type": "code",
   "execution_count": 114,
   "metadata": {},
   "outputs": [
    {
     "data": {
      "text/plain": [
       "count     10000.000000\n",
       "mean       9756.562400\n",
       "std       14432.698671\n",
       "min           0.000000\n",
       "25%         738.000000\n",
       "50%        2910.500000\n",
       "75%       13168.000000\n",
       "max      111850.000000\n",
       "Name: Population, dtype: float64"
      ]
     },
     "execution_count": 114,
     "metadata": {},
     "output_type": "execute_result"
    }
   ],
   "source": [
    "churn.Population.describe()"
   ]
  },
  {
   "cell_type": "code",
   "execution_count": 115,
   "metadata": {},
   "outputs": [
    {
     "data": {
      "text/plain": [
       "count    7505.000000\n",
       "mean        2.095936\n",
       "std         2.154758\n",
       "min         0.000000\n",
       "25%         0.000000\n",
       "50%         1.000000\n",
       "75%         3.000000\n",
       "max        10.000000\n",
       "Name: Children, dtype: float64"
      ]
     },
     "execution_count": 115,
     "metadata": {},
     "output_type": "execute_result"
    }
   ],
   "source": [
    "churn.Children.describe()"
   ]
  },
  {
   "cell_type": "code",
   "execution_count": 116,
   "metadata": {},
   "outputs": [
    {
     "data": {
      "text/plain": [
       "count    7525.000000\n",
       "mean       53.275748\n",
       "std        20.753928\n",
       "min        18.000000\n",
       "25%        35.000000\n",
       "50%        53.000000\n",
       "75%        71.000000\n",
       "max        89.000000\n",
       "Name: Age, dtype: float64"
      ]
     },
     "execution_count": 116,
     "metadata": {},
     "output_type": "execute_result"
    }
   ],
   "source": [
    "churn.Age.describe()"
   ]
  },
  {
   "cell_type": "code",
   "execution_count": 117,
   "metadata": {},
   "outputs": [
    {
     "data": {
      "text/plain": [
       "count      7510.000000\n",
       "mean      39936.762226\n",
       "std       28358.469482\n",
       "min         740.660000\n",
       "25%       19285.522500\n",
       "50%       33186.785000\n",
       "75%       53472.395000\n",
       "max      258900.700000\n",
       "Name: Income, dtype: float64"
      ]
     },
     "execution_count": 117,
     "metadata": {},
     "output_type": "execute_result"
    }
   ],
   "source": [
    "churn.Income.describe()"
   ]
  },
  {
   "cell_type": "code",
   "execution_count": 118,
   "metadata": {},
   "outputs": [
    {
     "data": {
      "text/plain": [
       "count    10000.000000\n",
       "mean        11.452955\n",
       "std          7.025921\n",
       "min         -1.348571\n",
       "25%          8.054362\n",
       "50%         10.202896\n",
       "75%         12.487644\n",
       "max         47.049280\n",
       "Name: Outage_sec_perweek, dtype: float64"
      ]
     },
     "execution_count": 118,
     "metadata": {},
     "output_type": "execute_result"
    }
   ],
   "source": [
    "churn.Outage_sec_perweek.describe()"
   ]
  },
  {
   "cell_type": "code",
   "execution_count": 119,
   "metadata": {},
   "outputs": [
    {
     "data": {
      "text/plain": [
       "count    9069.000000\n",
       "mean       34.498858\n",
       "std        26.438904\n",
       "min         1.000259\n",
       "25%         7.890442\n",
       "50%        36.196030\n",
       "75%        61.426670\n",
       "max        71.999280\n",
       "Name: Tenure, dtype: float64"
      ]
     },
     "execution_count": 119,
     "metadata": {},
     "output_type": "execute_result"
    }
   ],
   "source": [
    "churn.Tenure.describe()"
   ]
  },
  {
   "cell_type": "code",
   "execution_count": 120,
   "metadata": {},
   "outputs": [
    {
     "data": {
      "text/plain": [
       "count    10000.000000\n",
       "mean       174.076305\n",
       "std         43.335473\n",
       "min         77.505230\n",
       "25%        141.071078\n",
       "50%        169.915400\n",
       "75%        203.777441\n",
       "max        315.878600\n",
       "Name: MonthlyCharge, dtype: float64"
      ]
     },
     "execution_count": 120,
     "metadata": {},
     "output_type": "execute_result"
    }
   ],
   "source": [
    "churn.MonthlyCharge.describe()"
   ]
  },
  {
   "cell_type": "code",
   "execution_count": 121,
   "metadata": {},
   "outputs": [
    {
     "data": {
      "text/plain": [
       "count    8979.000000\n",
       "mean     3398.842752\n",
       "std      2187.396807\n",
       "min       155.506715\n",
       "25%      1234.110529\n",
       "50%      3382.424000\n",
       "75%      5587.096500\n",
       "max      7158.982000\n",
       "Name: Bandwidth_GB_Year, dtype: float64"
      ]
     },
     "execution_count": 121,
     "metadata": {},
     "output_type": "execute_result"
    }
   ],
   "source": [
    "churn.Bandwidth_GB_Year.describe()"
   ]
  },
  {
   "cell_type": "markdown",
   "metadata": {},
   "source": [
    "\n",
    "\n",
    "# Part III:  Data Cleaning\n",
    "\n",
    "### D.  Data Cleaning Process\n",
    "1. Description of findings from data cleaning plan(Part C) \n",
    "    -  Columns Zip, Lat, Lng currently are floats or ints.  There are not quantitative so will change datatype to object.\n",
    "    -  Outage_sec_perweek has negative numbers in it.  There should not be negative time for an outage.  Imputation will be used.\n",
    "    -  Education column could be standardized.  \n",
    "    -  Survey item columns to be renamed based on data dictionary\n",
    "    -  First column is not named and matches CaseOrder.  Drop first column and re-index\n",
    "    -  Numerical columns missing values.  Children, Age, Income, Tenure & Bandwidth_GB_Year.  Imputation will be used to deal with missing data.  Type of imputation will be based on column data.  \n",
    "    - Categorical columns missing values.  Techie, Phone, TechSupport, InternetService\n",
    "    \n",
    "\n",
    "2.  Imputation method will be based on variable type as stated above for numerical columns missing values.  \n",
    "    -  Categorical columns Techie, Phone and TechSupport will be set to 'No' as that is normally the default value. InternetService will be set to 'No Internet Service' instead of none or nan.  \n",
    "    -  Outliers identified will not be treated at this time.  Most of the outliers are on columns that seem to be reported by the customer and there is not a good way to infer the values.  Outage_sec_perweek is the only exception and will be treated with the appropriate imputation method.  \n",
    "\n",
    "\n",
    "Each step in the cleaning process will include a justification and summary to satisfy parts D3 & D4 of the rubric."
   ]
  },
  {
   "cell_type": "markdown",
   "metadata": {},
   "source": [
    "A copy of the data set will be made in order to preserve the original data set.  "
   ]
  },
  {
   "cell_type": "code",
   "execution_count": 122,
   "metadata": {},
   "outputs": [],
   "source": [
    "# copy of data set\n",
    "churn_clean = churn.copy()"
   ]
  },
  {
   "cell_type": "code",
   "execution_count": 123,
   "metadata": {},
   "outputs": [
    {
     "name": "stdout",
     "output_type": "stream",
     "text": [
      "<class 'pandas.core.frame.DataFrame'>\n",
      "RangeIndex: 10000 entries, 0 to 9999\n",
      "Data columns (total 52 columns):\n",
      " #   Column                Non-Null Count  Dtype  \n",
      "---  ------                --------------  -----  \n",
      " 0   Unnamed: 0            10000 non-null  int64  \n",
      " 1   CaseOrder             10000 non-null  int64  \n",
      " 2   Customer_id           10000 non-null  object \n",
      " 3   Interaction           10000 non-null  object \n",
      " 4   City                  10000 non-null  object \n",
      " 5   State                 10000 non-null  object \n",
      " 6   County                10000 non-null  object \n",
      " 7   Zip                   10000 non-null  int64  \n",
      " 8   Lat                   10000 non-null  float64\n",
      " 9   Lng                   10000 non-null  float64\n",
      " 10  Population            10000 non-null  int64  \n",
      " 11  Area                  10000 non-null  object \n",
      " 12  Timezone              10000 non-null  object \n",
      " 13  Job                   10000 non-null  object \n",
      " 14  Children              7505 non-null   float64\n",
      " 15  Age                   7525 non-null   float64\n",
      " 16  Education             10000 non-null  object \n",
      " 17  Employment            10000 non-null  object \n",
      " 18  Income                7510 non-null   float64\n",
      " 19  Marital               10000 non-null  object \n",
      " 20  Gender                10000 non-null  object \n",
      " 21  Churn                 10000 non-null  object \n",
      " 22  Outage_sec_perweek    10000 non-null  float64\n",
      " 23  Email                 10000 non-null  int64  \n",
      " 24  Contacts              10000 non-null  int64  \n",
      " 25  Yearly_equip_failure  10000 non-null  int64  \n",
      " 26  Techie                7523 non-null   object \n",
      " 27  Contract              10000 non-null  object \n",
      " 28  Port_modem            10000 non-null  object \n",
      " 29  Tablet                10000 non-null  object \n",
      " 30  InternetService       7871 non-null   object \n",
      " 31  Phone                 8974 non-null   object \n",
      " 32  Multiple              10000 non-null  object \n",
      " 33  OnlineSecurity        10000 non-null  object \n",
      " 34  OnlineBackup          10000 non-null  object \n",
      " 35  DeviceProtection      10000 non-null  object \n",
      " 36  TechSupport           9009 non-null   object \n",
      " 37  StreamingTV           10000 non-null  object \n",
      " 38  StreamingMovies       10000 non-null  object \n",
      " 39  PaperlessBilling      10000 non-null  object \n",
      " 40  PaymentMethod         10000 non-null  object \n",
      " 41  Tenure                9069 non-null   float64\n",
      " 42  MonthlyCharge         10000 non-null  float64\n",
      " 43  Bandwidth_GB_Year     8979 non-null   float64\n",
      " 44  item1                 10000 non-null  int64  \n",
      " 45  item2                 10000 non-null  int64  \n",
      " 46  item3                 10000 non-null  int64  \n",
      " 47  item4                 10000 non-null  int64  \n",
      " 48  item5                 10000 non-null  int64  \n",
      " 49  item6                 10000 non-null  int64  \n",
      " 50  item7                 10000 non-null  int64  \n",
      " 51  item8                 10000 non-null  int64  \n",
      "dtypes: float64(9), int64(15), object(28)\n",
      "memory usage: 4.0+ MB\n"
     ]
    }
   ],
   "source": [
    "# inspect copy\n",
    "churn_clean.info()"
   ]
  },
  {
   "cell_type": "code",
   "execution_count": 124,
   "metadata": {},
   "outputs": [
    {
     "data": {
      "text/plain": [
       "(10000, 52)"
      ]
     },
     "execution_count": 124,
     "metadata": {},
     "output_type": "execute_result"
    }
   ],
   "source": [
    "churn_clean.shape"
   ]
  },
  {
   "cell_type": "code",
   "execution_count": 125,
   "metadata": {},
   "outputs": [
    {
     "data": {
      "text/plain": [
       "Index(['Unnamed: 0', 'CaseOrder', 'Customer_id', 'Interaction', 'City',\n",
       "       'State', 'County', 'Zip', 'Lat', 'Lng', 'Population', 'Area',\n",
       "       'Timezone', 'Job', 'Children', 'Age', 'Education', 'Employment',\n",
       "       'Income', 'Marital', 'Gender', 'Churn', 'Outage_sec_perweek', 'Email',\n",
       "       'Contacts', 'Yearly_equip_failure', 'Techie', 'Contract', 'Port_modem',\n",
       "       'Tablet', 'InternetService', 'Phone', 'Multiple', 'OnlineSecurity',\n",
       "       'OnlineBackup', 'DeviceProtection', 'TechSupport', 'StreamingTV',\n",
       "       'StreamingMovies', 'PaperlessBilling', 'PaymentMethod', 'Tenure',\n",
       "       'MonthlyCharge', 'Bandwidth_GB_Year', 'item1', 'item2', 'item3',\n",
       "       'item4', 'item5', 'item6', 'item7', 'item8'],\n",
       "      dtype='object')"
      ]
     },
     "execution_count": 125,
     "metadata": {},
     "output_type": "execute_result"
    }
   ],
   "source": [
    "churn_clean.columns"
   ]
  },
  {
   "cell_type": "markdown",
   "metadata": {},
   "source": [
    "Columns Zip, Lat, Lng currently are floats or ints.  There are not quantitative so will change datatype to object.  These values are not meant for any type of calculation.  Since the rest of the data types for categorical are set to object, these will aslo."
   ]
  },
  {
   "cell_type": "code",
   "execution_count": 126,
   "metadata": {},
   "outputs": [],
   "source": [
    "obj_columns = [\"Zip\", \"Lat\", \"Lng\"]\n",
    "churn_clean[obj_columns] = churn_clean[obj_columns].astype(object)"
   ]
  },
  {
   "cell_type": "code",
   "execution_count": 127,
   "metadata": {},
   "outputs": [
    {
     "name": "stdout",
     "output_type": "stream",
     "text": [
      "<class 'pandas.core.frame.DataFrame'>\n",
      "RangeIndex: 10000 entries, 0 to 9999\n",
      "Data columns (total 52 columns):\n",
      " #   Column                Non-Null Count  Dtype  \n",
      "---  ------                --------------  -----  \n",
      " 0   Unnamed: 0            10000 non-null  int64  \n",
      " 1   CaseOrder             10000 non-null  int64  \n",
      " 2   Customer_id           10000 non-null  object \n",
      " 3   Interaction           10000 non-null  object \n",
      " 4   City                  10000 non-null  object \n",
      " 5   State                 10000 non-null  object \n",
      " 6   County                10000 non-null  object \n",
      " 7   Zip                   10000 non-null  object \n",
      " 8   Lat                   10000 non-null  object \n",
      " 9   Lng                   10000 non-null  object \n",
      " 10  Population            10000 non-null  int64  \n",
      " 11  Area                  10000 non-null  object \n",
      " 12  Timezone              10000 non-null  object \n",
      " 13  Job                   10000 non-null  object \n",
      " 14  Children              7505 non-null   float64\n",
      " 15  Age                   7525 non-null   float64\n",
      " 16  Education             10000 non-null  object \n",
      " 17  Employment            10000 non-null  object \n",
      " 18  Income                7510 non-null   float64\n",
      " 19  Marital               10000 non-null  object \n",
      " 20  Gender                10000 non-null  object \n",
      " 21  Churn                 10000 non-null  object \n",
      " 22  Outage_sec_perweek    10000 non-null  float64\n",
      " 23  Email                 10000 non-null  int64  \n",
      " 24  Contacts              10000 non-null  int64  \n",
      " 25  Yearly_equip_failure  10000 non-null  int64  \n",
      " 26  Techie                7523 non-null   object \n",
      " 27  Contract              10000 non-null  object \n",
      " 28  Port_modem            10000 non-null  object \n",
      " 29  Tablet                10000 non-null  object \n",
      " 30  InternetService       7871 non-null   object \n",
      " 31  Phone                 8974 non-null   object \n",
      " 32  Multiple              10000 non-null  object \n",
      " 33  OnlineSecurity        10000 non-null  object \n",
      " 34  OnlineBackup          10000 non-null  object \n",
      " 35  DeviceProtection      10000 non-null  object \n",
      " 36  TechSupport           9009 non-null   object \n",
      " 37  StreamingTV           10000 non-null  object \n",
      " 38  StreamingMovies       10000 non-null  object \n",
      " 39  PaperlessBilling      10000 non-null  object \n",
      " 40  PaymentMethod         10000 non-null  object \n",
      " 41  Tenure                9069 non-null   float64\n",
      " 42  MonthlyCharge         10000 non-null  float64\n",
      " 43  Bandwidth_GB_Year     8979 non-null   float64\n",
      " 44  item1                 10000 non-null  int64  \n",
      " 45  item2                 10000 non-null  int64  \n",
      " 46  item3                 10000 non-null  int64  \n",
      " 47  item4                 10000 non-null  int64  \n",
      " 48  item5                 10000 non-null  int64  \n",
      " 49  item6                 10000 non-null  int64  \n",
      " 50  item7                 10000 non-null  int64  \n",
      " 51  item8                 10000 non-null  int64  \n",
      "dtypes: float64(7), int64(14), object(31)\n",
      "memory usage: 4.0+ MB\n"
     ]
    }
   ],
   "source": [
    "# inspect copy after type change\n",
    "churn_clean.info()"
   ]
  },
  {
   "cell_type": "markdown",
   "metadata": {},
   "source": [
    "Outage_sec_perweek has negative numbers in it.  There should not be negative time for an outage.  We are going to change the negative numbers to 0.  "
   ]
  },
  {
   "cell_type": "code",
   "execution_count": 128,
   "metadata": {},
   "outputs": [
    {
     "data": {
      "text/plain": [
       "count    10000.000000\n",
       "mean        11.452955\n",
       "std          7.025921\n",
       "min         -1.348571\n",
       "25%          8.054362\n",
       "50%         10.202896\n",
       "75%         12.487644\n",
       "max         47.049280\n",
       "Name: Outage_sec_perweek, dtype: float64"
      ]
     },
     "execution_count": 128,
     "metadata": {},
     "output_type": "execute_result"
    }
   ],
   "source": [
    "# descriptive stats for Outage_sec_perweek\n",
    "churn_clean[\"Outage_sec_perweek\"].describe()"
   ]
  },
  {
   "cell_type": "code",
   "execution_count": 129,
   "metadata": {},
   "outputs": [
    {
     "data": {
      "text/plain": [
       "(11, 52)"
      ]
     },
     "execution_count": 129,
     "metadata": {},
     "output_type": "execute_result"
    }
   ],
   "source": [
    "# will use .shape to determine how many negative values\n",
    "churn_clean[churn_clean[\"Outage_sec_perweek\"] < 0].shape"
   ]
  },
  {
   "cell_type": "code",
   "execution_count": 130,
   "metadata": {},
   "outputs": [
    {
     "name": "stderr",
     "output_type": "stream",
     "text": [
      "C:\\Users\\jjord\\AppData\\Local\\Temp\\ipykernel_15200\\628072134.py:2: SettingWithCopyWarning: \n",
      "A value is trying to be set on a copy of a slice from a DataFrame\n",
      "\n",
      "See the caveats in the documentation: https://pandas.pydata.org/pandas-docs/stable/user_guide/indexing.html#returning-a-view-versus-a-copy\n",
      "  churn_clean[\"Outage_sec_perweek\"][churn_clean[\"Outage_sec_perweek\"] < 0] = 0\n"
     ]
    }
   ],
   "source": [
    "# 11 values are negative.  Will set them to 0 instead of deleting them.  Deleting them would cause more data loss.\n",
    "churn_clean[\"Outage_sec_perweek\"][churn_clean[\"Outage_sec_perweek\"] < 0] = 0"
   ]
  },
  {
   "cell_type": "code",
   "execution_count": 131,
   "metadata": {},
   "outputs": [
    {
     "data": {
      "text/plain": [
       "count    10000.000000\n",
       "mean        11.453592\n",
       "std          7.024842\n",
       "min          0.000000\n",
       "25%          8.054362\n",
       "50%         10.202896\n",
       "75%         12.487644\n",
       "max         47.049280\n",
       "Name: Outage_sec_perweek, dtype: float64"
      ]
     },
     "execution_count": 131,
     "metadata": {},
     "output_type": "execute_result"
    }
   ],
   "source": [
    "# verify with descriptive stats for Outage_sec_perweek\n",
    "# min should be 0 now\n",
    "churn_clean[\"Outage_sec_perweek\"].describe()"
   ]
  },
  {
   "cell_type": "markdown",
   "metadata": {},
   "source": [
    "Education column could be standardized.  Will create a dictionary to standardize values in the Education column as the current values are too granular. "
   ]
  },
  {
   "cell_type": "code",
   "execution_count": 132,
   "metadata": {},
   "outputs": [
    {
     "data": {
      "text/plain": [
       "Education\n",
       "Regular High School Diploma                 2421\n",
       "Bachelor's Degree                           1703\n",
       "Some College, 1 or More Years, No Degree    1562\n",
       "9th Grade to 12th Grade, No Diploma          870\n",
       "Master's Degree                              764\n",
       "Associate's Degree                           760\n",
       "Some College, Less than 1 Year               652\n",
       "Nursery School to 8th Grade                  449\n",
       "GED or Alternative Credential                387\n",
       "Professional School Degree                   198\n",
       "No Schooling Completed                       118\n",
       "Doctorate Degree                             116\n",
       "Name: count, dtype: int64"
      ]
     },
     "execution_count": 132,
     "metadata": {},
     "output_type": "execute_result"
    }
   ],
   "source": [
    "# Education current value counts\n",
    "churn_clean[\"Education\"].value_counts()"
   ]
  },
  {
   "cell_type": "code",
   "execution_count": 133,
   "metadata": {},
   "outputs": [],
   "source": [
    "# create dictionary mapping\n",
    "education_levels = {\n",
    "    \"Master's Degree\": \"Graduate Degree\",\n",
    "    \"Regular High School Diploma\": \"Highschool\",\n",
    "    \"Doctorate Degree\": \"Graduate Degree\",\n",
    "    \"No Schooling Completed\": \"No Diploma\",\n",
    "    \"Associate's Degree\": \"Associate's/Some College\",\n",
    "    \"Bachelor's Degree\": \"Bachelor's Degree\",\n",
    "    \"Some College, Less than 1 Year\": \"Associate's/Some College\",\n",
    "    \"GED or Alternative Credential\": \"Graduate Degree\",\n",
    "    \"Some College, 1 or More Years, No Degree\": \"Associate's/Some College\",\n",
    "    \"9th Grade to 12th Grade, No Diploma\": \"No Diploma\",\n",
    "    \"Nursery School to 8th Grade\": \"No Diploma\",\n",
    "    \"Professional School Degree\": \"Graduate Degree\",\n",
    "}\n",
    "# map to dictionary\n",
    "churn_clean[\"Education\"] = churn_clean[\"Education\"].map(education_levels)"
   ]
  },
  {
   "cell_type": "code",
   "execution_count": 134,
   "metadata": {},
   "outputs": [
    {
     "data": {
      "text/plain": [
       "Education\n",
       "Associate's/Some College    2974\n",
       "Highschool                  2421\n",
       "Bachelor's Degree           1703\n",
       "Graduate Degree             1465\n",
       "No Diploma                  1437\n",
       "Name: count, dtype: int64"
      ]
     },
     "execution_count": 134,
     "metadata": {},
     "output_type": "execute_result"
    }
   ],
   "source": [
    "# Education value counts after mapping\n",
    "churn_clean[\"Education\"].value_counts()"
   ]
  },
  {
   "cell_type": "markdown",
   "metadata": {},
   "source": [
    "Survey item columns to be renamed based on data dictionary."
   ]
  },
  {
   "cell_type": "code",
   "execution_count": 135,
   "metadata": {},
   "outputs": [],
   "source": [
    "# rename item columns\n",
    "churn_clean.rename(\n",
    "    columns={\n",
    "        \"item1\": \"Timely_response\",\n",
    "        \"item2\": \"Timely_fixes\",\n",
    "        \"item3\": \"Timely_replacements\",\n",
    "        \"item4\": \"Reliability\",\n",
    "        \"item5\": \"Options\",\n",
    "        \"item6\": \"Respectful_response\",\n",
    "        \"item7\": \"Courteous_exchange\",\n",
    "        \"item8\": \"Active_listening\",\n",
    "    },\n",
    "    inplace=True,\n",
    ")"
   ]
  },
  {
   "cell_type": "code",
   "execution_count": 136,
   "metadata": {},
   "outputs": [
    {
     "data": {
      "text/plain": [
       "Index(['Unnamed: 0', 'CaseOrder', 'Customer_id', 'Interaction', 'City',\n",
       "       'State', 'County', 'Zip', 'Lat', 'Lng', 'Population', 'Area',\n",
       "       'Timezone', 'Job', 'Children', 'Age', 'Education', 'Employment',\n",
       "       'Income', 'Marital', 'Gender', 'Churn', 'Outage_sec_perweek', 'Email',\n",
       "       'Contacts', 'Yearly_equip_failure', 'Techie', 'Contract', 'Port_modem',\n",
       "       'Tablet', 'InternetService', 'Phone', 'Multiple', 'OnlineSecurity',\n",
       "       'OnlineBackup', 'DeviceProtection', 'TechSupport', 'StreamingTV',\n",
       "       'StreamingMovies', 'PaperlessBilling', 'PaymentMethod', 'Tenure',\n",
       "       'MonthlyCharge', 'Bandwidth_GB_Year', 'Timely_response', 'Timely_fixes',\n",
       "       'Timely_replacements', 'Reliability', 'Options', 'Respectful_response',\n",
       "       'Courteous_exchange', 'Active_listening'],\n",
       "      dtype='object')"
      ]
     },
     "execution_count": 136,
     "metadata": {},
     "output_type": "execute_result"
    }
   ],
   "source": [
    "# verify columns after rename\n",
    "churn_clean.columns"
   ]
  },
  {
   "cell_type": "markdown",
   "metadata": {},
   "source": [
    "First column is not named and matches CaseOrder.  Drop first column and re-index will ensure correct indexing.  "
   ]
  },
  {
   "cell_type": "code",
   "execution_count": 137,
   "metadata": {},
   "outputs": [
    {
     "data": {
      "text/html": [
       "<div>\n",
       "<style scoped>\n",
       "    .dataframe tbody tr th:only-of-type {\n",
       "        vertical-align: middle;\n",
       "    }\n",
       "\n",
       "    .dataframe tbody tr th {\n",
       "        vertical-align: top;\n",
       "    }\n",
       "\n",
       "    .dataframe thead th {\n",
       "        text-align: right;\n",
       "    }\n",
       "</style>\n",
       "<table border=\"1\" class=\"dataframe\">\n",
       "  <thead>\n",
       "    <tr style=\"text-align: right;\">\n",
       "      <th></th>\n",
       "      <th>Unnamed: 0</th>\n",
       "    </tr>\n",
       "  </thead>\n",
       "  <tbody>\n",
       "    <tr>\n",
       "      <th>0</th>\n",
       "      <td>1</td>\n",
       "    </tr>\n",
       "    <tr>\n",
       "      <th>1</th>\n",
       "      <td>2</td>\n",
       "    </tr>\n",
       "    <tr>\n",
       "      <th>2</th>\n",
       "      <td>3</td>\n",
       "    </tr>\n",
       "    <tr>\n",
       "      <th>3</th>\n",
       "      <td>4</td>\n",
       "    </tr>\n",
       "    <tr>\n",
       "      <th>4</th>\n",
       "      <td>5</td>\n",
       "    </tr>\n",
       "  </tbody>\n",
       "</table>\n",
       "</div>"
      ],
      "text/plain": [
       "   Unnamed: 0\n",
       "0           1\n",
       "1           2\n",
       "2           3\n",
       "3           4\n",
       "4           5"
      ]
     },
     "execution_count": 137,
     "metadata": {},
     "output_type": "execute_result"
    }
   ],
   "source": [
    "churn_clean.iloc[:, 0:1].head()"
   ]
  },
  {
   "cell_type": "code",
   "execution_count": 138,
   "metadata": {},
   "outputs": [],
   "source": [
    "# inplace drop of column\n",
    "churn_clean.drop(churn_clean.columns[0], axis=1, inplace=True)"
   ]
  },
  {
   "cell_type": "code",
   "execution_count": 139,
   "metadata": {},
   "outputs": [],
   "source": [
    "# index reset\n",
    "churn_clean = churn_clean.reset_index(drop=True)\n",
    "churn_clean.set_index(\"CaseOrder\", inplace=True)"
   ]
  },
  {
   "cell_type": "code",
   "execution_count": 140,
   "metadata": {},
   "outputs": [
    {
     "data": {
      "text/html": [
       "<div>\n",
       "<style scoped>\n",
       "    .dataframe tbody tr th:only-of-type {\n",
       "        vertical-align: middle;\n",
       "    }\n",
       "\n",
       "    .dataframe tbody tr th {\n",
       "        vertical-align: top;\n",
       "    }\n",
       "\n",
       "    .dataframe thead th {\n",
       "        text-align: right;\n",
       "    }\n",
       "</style>\n",
       "<table border=\"1\" class=\"dataframe\">\n",
       "  <thead>\n",
       "    <tr style=\"text-align: right;\">\n",
       "      <th></th>\n",
       "      <th>Customer_id</th>\n",
       "      <th>Interaction</th>\n",
       "      <th>City</th>\n",
       "      <th>State</th>\n",
       "      <th>County</th>\n",
       "      <th>Zip</th>\n",
       "      <th>Lat</th>\n",
       "      <th>Lng</th>\n",
       "      <th>Population</th>\n",
       "      <th>Area</th>\n",
       "      <th>...</th>\n",
       "      <th>MonthlyCharge</th>\n",
       "      <th>Bandwidth_GB_Year</th>\n",
       "      <th>Timely_response</th>\n",
       "      <th>Timely_fixes</th>\n",
       "      <th>Timely_replacements</th>\n",
       "      <th>Reliability</th>\n",
       "      <th>Options</th>\n",
       "      <th>Respectful_response</th>\n",
       "      <th>Courteous_exchange</th>\n",
       "      <th>Active_listening</th>\n",
       "    </tr>\n",
       "    <tr>\n",
       "      <th>CaseOrder</th>\n",
       "      <th></th>\n",
       "      <th></th>\n",
       "      <th></th>\n",
       "      <th></th>\n",
       "      <th></th>\n",
       "      <th></th>\n",
       "      <th></th>\n",
       "      <th></th>\n",
       "      <th></th>\n",
       "      <th></th>\n",
       "      <th></th>\n",
       "      <th></th>\n",
       "      <th></th>\n",
       "      <th></th>\n",
       "      <th></th>\n",
       "      <th></th>\n",
       "      <th></th>\n",
       "      <th></th>\n",
       "      <th></th>\n",
       "      <th></th>\n",
       "      <th></th>\n",
       "    </tr>\n",
       "  </thead>\n",
       "  <tbody>\n",
       "    <tr>\n",
       "      <th>1</th>\n",
       "      <td>K409198</td>\n",
       "      <td>aa90260b-4141-4a24-8e36-b04ce1f4f77b</td>\n",
       "      <td>Point Baker</td>\n",
       "      <td>AK</td>\n",
       "      <td>Prince of Wales-Hyder</td>\n",
       "      <td>99927</td>\n",
       "      <td>56.251</td>\n",
       "      <td>-133.37571</td>\n",
       "      <td>38</td>\n",
       "      <td>Urban</td>\n",
       "      <td>...</td>\n",
       "      <td>171.449762</td>\n",
       "      <td>904.536110</td>\n",
       "      <td>5</td>\n",
       "      <td>5</td>\n",
       "      <td>5</td>\n",
       "      <td>3</td>\n",
       "      <td>4</td>\n",
       "      <td>4</td>\n",
       "      <td>3</td>\n",
       "      <td>4</td>\n",
       "    </tr>\n",
       "    <tr>\n",
       "      <th>2</th>\n",
       "      <td>S120509</td>\n",
       "      <td>fb76459f-c047-4a9d-8af9-e0f7d4ac2524</td>\n",
       "      <td>West Branch</td>\n",
       "      <td>MI</td>\n",
       "      <td>Ogemaw</td>\n",
       "      <td>48661</td>\n",
       "      <td>44.32893</td>\n",
       "      <td>-84.2408</td>\n",
       "      <td>10446</td>\n",
       "      <td>Urban</td>\n",
       "      <td>...</td>\n",
       "      <td>242.948015</td>\n",
       "      <td>800.982766</td>\n",
       "      <td>3</td>\n",
       "      <td>4</td>\n",
       "      <td>3</td>\n",
       "      <td>3</td>\n",
       "      <td>4</td>\n",
       "      <td>3</td>\n",
       "      <td>4</td>\n",
       "      <td>4</td>\n",
       "    </tr>\n",
       "    <tr>\n",
       "      <th>3</th>\n",
       "      <td>K191035</td>\n",
       "      <td>344d114c-3736-4be5-98f7-c72c281e2d35</td>\n",
       "      <td>Yamhill</td>\n",
       "      <td>OR</td>\n",
       "      <td>Yamhill</td>\n",
       "      <td>97148</td>\n",
       "      <td>45.35589</td>\n",
       "      <td>-123.24657</td>\n",
       "      <td>3735</td>\n",
       "      <td>Urban</td>\n",
       "      <td>...</td>\n",
       "      <td>159.440398</td>\n",
       "      <td>2054.706961</td>\n",
       "      <td>4</td>\n",
       "      <td>4</td>\n",
       "      <td>2</td>\n",
       "      <td>4</td>\n",
       "      <td>4</td>\n",
       "      <td>3</td>\n",
       "      <td>3</td>\n",
       "      <td>3</td>\n",
       "    </tr>\n",
       "    <tr>\n",
       "      <th>4</th>\n",
       "      <td>D90850</td>\n",
       "      <td>abfa2b40-2d43-4994-b15a-989b8c79e311</td>\n",
       "      <td>Del Mar</td>\n",
       "      <td>CA</td>\n",
       "      <td>San Diego</td>\n",
       "      <td>92014</td>\n",
       "      <td>32.96687</td>\n",
       "      <td>-117.24798</td>\n",
       "      <td>13863</td>\n",
       "      <td>Suburban</td>\n",
       "      <td>...</td>\n",
       "      <td>120.249493</td>\n",
       "      <td>2164.579412</td>\n",
       "      <td>4</td>\n",
       "      <td>4</td>\n",
       "      <td>4</td>\n",
       "      <td>2</td>\n",
       "      <td>5</td>\n",
       "      <td>4</td>\n",
       "      <td>3</td>\n",
       "      <td>3</td>\n",
       "    </tr>\n",
       "    <tr>\n",
       "      <th>5</th>\n",
       "      <td>K662701</td>\n",
       "      <td>68a861fd-0d20-4e51-a587-8a90407ee574</td>\n",
       "      <td>Needville</td>\n",
       "      <td>TX</td>\n",
       "      <td>Fort Bend</td>\n",
       "      <td>77461</td>\n",
       "      <td>29.38012</td>\n",
       "      <td>-95.80673</td>\n",
       "      <td>11352</td>\n",
       "      <td>Suburban</td>\n",
       "      <td>...</td>\n",
       "      <td>150.761216</td>\n",
       "      <td>271.493436</td>\n",
       "      <td>4</td>\n",
       "      <td>4</td>\n",
       "      <td>4</td>\n",
       "      <td>3</td>\n",
       "      <td>4</td>\n",
       "      <td>4</td>\n",
       "      <td>4</td>\n",
       "      <td>5</td>\n",
       "    </tr>\n",
       "  </tbody>\n",
       "</table>\n",
       "<p>5 rows × 50 columns</p>\n",
       "</div>"
      ],
      "text/plain": [
       "          Customer_id                           Interaction         City  \\\n",
       "CaseOrder                                                                  \n",
       "1             K409198  aa90260b-4141-4a24-8e36-b04ce1f4f77b  Point Baker   \n",
       "2             S120509  fb76459f-c047-4a9d-8af9-e0f7d4ac2524  West Branch   \n",
       "3             K191035  344d114c-3736-4be5-98f7-c72c281e2d35      Yamhill   \n",
       "4              D90850  abfa2b40-2d43-4994-b15a-989b8c79e311      Del Mar   \n",
       "5             K662701  68a861fd-0d20-4e51-a587-8a90407ee574    Needville   \n",
       "\n",
       "          State                 County    Zip       Lat        Lng  \\\n",
       "CaseOrder                                                            \n",
       "1            AK  Prince of Wales-Hyder  99927    56.251 -133.37571   \n",
       "2            MI                 Ogemaw  48661  44.32893   -84.2408   \n",
       "3            OR                Yamhill  97148  45.35589 -123.24657   \n",
       "4            CA              San Diego  92014  32.96687 -117.24798   \n",
       "5            TX              Fort Bend  77461  29.38012  -95.80673   \n",
       "\n",
       "           Population      Area  ... MonthlyCharge Bandwidth_GB_Year  \\\n",
       "CaseOrder                        ...                                   \n",
       "1                  38     Urban  ...    171.449762        904.536110   \n",
       "2               10446     Urban  ...    242.948015        800.982766   \n",
       "3                3735     Urban  ...    159.440398       2054.706961   \n",
       "4               13863  Suburban  ...    120.249493       2164.579412   \n",
       "5               11352  Suburban  ...    150.761216        271.493436   \n",
       "\n",
       "           Timely_response  Timely_fixes Timely_replacements Reliability  \\\n",
       "CaseOrder                                                                  \n",
       "1                        5             5                   5           3   \n",
       "2                        3             4                   3           3   \n",
       "3                        4             4                   2           4   \n",
       "4                        4             4                   4           2   \n",
       "5                        4             4                   4           3   \n",
       "\n",
       "           Options Respectful_response Courteous_exchange Active_listening  \n",
       "CaseOrder                                                                   \n",
       "1                4                   4                  3                4  \n",
       "2                4                   3                  4                4  \n",
       "3                4                   3                  3                3  \n",
       "4                5                   4                  3                3  \n",
       "5                4                   4                  4                5  \n",
       "\n",
       "[5 rows x 50 columns]"
      ]
     },
     "execution_count": 140,
     "metadata": {},
     "output_type": "execute_result"
    }
   ],
   "source": [
    "# verify after column drop and re-index\n",
    "churn_clean.head()"
   ]
  },
  {
   "cell_type": "markdown",
   "metadata": {},
   "source": [
    "Numerical columns missing values.  Children, Age, Income, Tenure & Bandwidth_GB_Year.  Imputation will be used to deal with missing data.  Type of imputation will be based on column data."
   ]
  },
  {
   "cell_type": "code",
   "execution_count": 141,
   "metadata": {},
   "outputs": [],
   "source": [
    "# create list of numeric columns\n",
    "numeric_col = [\"Children\", \"Age\", \"Income\", \"Tenure\", \"Bandwidth_GB_Year\"]"
   ]
  },
  {
   "cell_type": "code",
   "execution_count": 142,
   "metadata": {},
   "outputs": [
    {
     "data": {
      "text/html": [
       "<div>\n",
       "<style scoped>\n",
       "    .dataframe tbody tr th:only-of-type {\n",
       "        vertical-align: middle;\n",
       "    }\n",
       "\n",
       "    .dataframe tbody tr th {\n",
       "        vertical-align: top;\n",
       "    }\n",
       "\n",
       "    .dataframe thead th {\n",
       "        text-align: right;\n",
       "    }\n",
       "</style>\n",
       "<table border=\"1\" class=\"dataframe\">\n",
       "  <thead>\n",
       "    <tr style=\"text-align: right;\">\n",
       "      <th></th>\n",
       "      <th>Children</th>\n",
       "      <th>Age</th>\n",
       "      <th>Income</th>\n",
       "      <th>Tenure</th>\n",
       "      <th>Bandwidth_GB_Year</th>\n",
       "    </tr>\n",
       "  </thead>\n",
       "  <tbody>\n",
       "    <tr>\n",
       "      <th>count</th>\n",
       "      <td>7505.000000</td>\n",
       "      <td>7525.000000</td>\n",
       "      <td>7510.000000</td>\n",
       "      <td>9069.000000</td>\n",
       "      <td>8979.000000</td>\n",
       "    </tr>\n",
       "    <tr>\n",
       "      <th>mean</th>\n",
       "      <td>2.095936</td>\n",
       "      <td>53.275748</td>\n",
       "      <td>39936.762226</td>\n",
       "      <td>34.498858</td>\n",
       "      <td>3398.842752</td>\n",
       "    </tr>\n",
       "    <tr>\n",
       "      <th>std</th>\n",
       "      <td>2.154758</td>\n",
       "      <td>20.753928</td>\n",
       "      <td>28358.469482</td>\n",
       "      <td>26.438904</td>\n",
       "      <td>2187.396807</td>\n",
       "    </tr>\n",
       "    <tr>\n",
       "      <th>min</th>\n",
       "      <td>0.000000</td>\n",
       "      <td>18.000000</td>\n",
       "      <td>740.660000</td>\n",
       "      <td>1.000259</td>\n",
       "      <td>155.506715</td>\n",
       "    </tr>\n",
       "    <tr>\n",
       "      <th>25%</th>\n",
       "      <td>0.000000</td>\n",
       "      <td>35.000000</td>\n",
       "      <td>19285.522500</td>\n",
       "      <td>7.890442</td>\n",
       "      <td>1234.110529</td>\n",
       "    </tr>\n",
       "    <tr>\n",
       "      <th>50%</th>\n",
       "      <td>1.000000</td>\n",
       "      <td>53.000000</td>\n",
       "      <td>33186.785000</td>\n",
       "      <td>36.196030</td>\n",
       "      <td>3382.424000</td>\n",
       "    </tr>\n",
       "    <tr>\n",
       "      <th>75%</th>\n",
       "      <td>3.000000</td>\n",
       "      <td>71.000000</td>\n",
       "      <td>53472.395000</td>\n",
       "      <td>61.426670</td>\n",
       "      <td>5587.096500</td>\n",
       "    </tr>\n",
       "    <tr>\n",
       "      <th>max</th>\n",
       "      <td>10.000000</td>\n",
       "      <td>89.000000</td>\n",
       "      <td>258900.700000</td>\n",
       "      <td>71.999280</td>\n",
       "      <td>7158.982000</td>\n",
       "    </tr>\n",
       "  </tbody>\n",
       "</table>\n",
       "</div>"
      ],
      "text/plain": [
       "          Children          Age         Income       Tenure  Bandwidth_GB_Year\n",
       "count  7505.000000  7525.000000    7510.000000  9069.000000        8979.000000\n",
       "mean      2.095936    53.275748   39936.762226    34.498858        3398.842752\n",
       "std       2.154758    20.753928   28358.469482    26.438904        2187.396807\n",
       "min       0.000000    18.000000     740.660000     1.000259         155.506715\n",
       "25%       0.000000    35.000000   19285.522500     7.890442        1234.110529\n",
       "50%       1.000000    53.000000   33186.785000    36.196030        3382.424000\n",
       "75%       3.000000    71.000000   53472.395000    61.426670        5587.096500\n",
       "max      10.000000    89.000000  258900.700000    71.999280        7158.982000"
      ]
     },
     "execution_count": 142,
     "metadata": {},
     "output_type": "execute_result"
    }
   ],
   "source": [
    "# descriptive stats for numeric_col\n",
    "churn_clean[numeric_col].describe()"
   ]
  },
  {
   "cell_type": "code",
   "execution_count": 143,
   "metadata": {},
   "outputs": [
    {
     "name": "stderr",
     "output_type": "stream",
     "text": [
      "c:\\Users\\jjord\\anaconda3\\Lib\\site-packages\\seaborn\\_oldcore.py:1119: FutureWarning: use_inf_as_na option is deprecated and will be removed in a future version. Convert inf values to NaN before operating instead.\n",
      "  with pd.option_context('mode.use_inf_as_na', True):\n",
      "c:\\Users\\jjord\\anaconda3\\Lib\\site-packages\\seaborn\\_oldcore.py:1119: FutureWarning: use_inf_as_na option is deprecated and will be removed in a future version. Convert inf values to NaN before operating instead.\n",
      "  with pd.option_context('mode.use_inf_as_na', True):\n",
      "c:\\Users\\jjord\\anaconda3\\Lib\\site-packages\\seaborn\\_oldcore.py:1119: FutureWarning: use_inf_as_na option is deprecated and will be removed in a future version. Convert inf values to NaN before operating instead.\n",
      "  with pd.option_context('mode.use_inf_as_na', True):\n",
      "c:\\Users\\jjord\\anaconda3\\Lib\\site-packages\\seaborn\\_oldcore.py:1119: FutureWarning: use_inf_as_na option is deprecated and will be removed in a future version. Convert inf values to NaN before operating instead.\n",
      "  with pd.option_context('mode.use_inf_as_na', True):\n",
      "c:\\Users\\jjord\\anaconda3\\Lib\\site-packages\\seaborn\\_oldcore.py:1119: FutureWarning: use_inf_as_na option is deprecated and will be removed in a future version. Convert inf values to NaN before operating instead.\n",
      "  with pd.option_context('mode.use_inf_as_na', True):\n"
     ]
    },
    {
     "data": {
      "image/png": "[encoded data removed]",
      "text/plain": [
       "<Figure size 640x480 with 1 Axes>"
      ]
     },
     "metadata": {},
     "output_type": "display_data"
    },
    {
     "data": {
      "image/png": "[encoded data removed]",
      "text/plain": [
       "<Figure size 640x480 with 1 Axes>"
      ]
     },
     "metadata": {},
     "output_type": "display_data"
    },
    {
     "data": {
      "image/png": "[encoded data removed]",
      "text/plain": [
       "<Figure size 640x480 with 1 Axes>"
      ]
     },
     "metadata": {},
     "output_type": "display_data"
    },
    {
     "data": {
      "image/png": "[encoded data removed]",
      "text/plain": [
       "<Figure size 640x480 with 1 Axes>"
      ]
     },
     "metadata": {},
     "output_type": "display_data"
    },
    {
     "data": {
      "image/png": "[encoded data removed]",
      "text/plain": [
       "<Figure size 640x480 with 1 Axes>"
      ]
     },
     "metadata": {},
     "output_type": "display_data"
    }
   ],
   "source": [
    "# histogram visualizations\n",
    "for n, col in enumerate(churn[numeric_col]):\n",
    "    try:\n",
    "        plt.figure(n)\n",
    "        sns.histplot(churn[col][churn[col] > 0], kde=True)\n",
    "    except Exception:\n",
    "        pass"
   ]
  },
  {
   "cell_type": "markdown",
   "metadata": {},
   "source": [
    "Income and Children have distributions that are skewed normal.  Skewed distributions should be imputed with the median function to reduce variance(Middleton, 2023)"
   ]
  },
  {
   "cell_type": "code",
   "execution_count": 144,
   "metadata": {},
   "outputs": [],
   "source": [
    "# create list for imputation\n",
    "median_col = [\"Income\", \"Children\"]\n",
    "# impute null values\n",
    "for col in median_col:\n",
    "    churn_clean[col].fillna(churn_clean[col].median(), inplace=True)"
   ]
  },
  {
   "cell_type": "code",
   "execution_count": 145,
   "metadata": {},
   "outputs": [
    {
     "data": {
      "text/plain": [
       "Income      0\n",
       "Children    0\n",
       "dtype: int64"
      ]
     },
     "execution_count": 145,
     "metadata": {},
     "output_type": "execute_result"
    }
   ],
   "source": [
    "# verify Income and Children no longer have null values\n",
    "churn_clean[median_col].isnull().sum()"
   ]
  },
  {
   "cell_type": "markdown",
   "metadata": {},
   "source": [
    "Age has a distribution that is even.  Since the size of the data is fairly large and there is no real way of knowing age, we will use random imputation."
   ]
  },
  {
   "cell_type": "code",
   "execution_count": 146,
   "metadata": {},
   "outputs": [],
   "source": [
    "# set random seed\n",
    "random.seed(36297)\n",
    "\n",
    "# create list of current ages\n",
    "ages_current = churn_clean[\"Age\"][churn_clean[\"Age\"].notna()].tolist()"
   ]
  },
  {
   "cell_type": "code",
   "execution_count": 147,
   "metadata": {},
   "outputs": [],
   "source": [
    "# asign ages at random\n",
    "churn_clean[\"Age\"].fillna(\n",
    "    pd.Series(np.random.choice(ages_current, size=len(churn_clean.index))), inplace=True\n",
    ")"
   ]
  },
  {
   "cell_type": "code",
   "execution_count": 148,
   "metadata": {},
   "outputs": [
    {
     "data": {
      "text/plain": [
       "0"
      ]
     },
     "execution_count": 148,
     "metadata": {},
     "output_type": "execute_result"
    }
   ],
   "source": [
    "# verify Age no longer has nulls\n",
    "churn_clean[\"Age\"].isnull().sum()"
   ]
  },
  {
   "cell_type": "markdown",
   "metadata": {},
   "source": [
    "Tenure and Bandwidth_GB_Year have a distribution that is bimodal.  Since the size of the data is fairly large, we will use random imputation."
   ]
  },
  {
   "cell_type": "code",
   "execution_count": 149,
   "metadata": {},
   "outputs": [],
   "source": [
    "# create list of Tenure and Bandwidth_GB_Year\n",
    "bimod_col = [\"Tenure\", \"Bandwidth_GB_Year\"]"
   ]
  },
  {
   "cell_type": "code",
   "execution_count": 150,
   "metadata": {},
   "outputs": [],
   "source": [
    "for col in bimod_col:\n",
    "    churn_clean[col].fillna(\n",
    "        pd.Series(\n",
    "            np.random.choice(\n",
    "                churn_clean[col][churn_clean[col] >\n",
    "                                 0], size=len(churn_clean.index)\n",
    "            )\n",
    "        ),\n",
    "        inplace=True,\n",
    "    )"
   ]
  },
  {
   "cell_type": "code",
   "execution_count": 151,
   "metadata": {},
   "outputs": [
    {
     "data": {
      "text/plain": [
       "Tenure               0\n",
       "Bandwidth_GB_Year    0\n",
       "dtype: int64"
      ]
     },
     "execution_count": 151,
     "metadata": {},
     "output_type": "execute_result"
    }
   ],
   "source": [
    "# verify Tenure and Bandwidth_GB_Year no longer have null\n",
    "churn_clean[bimod_col].isnull().sum()"
   ]
  },
  {
   "cell_type": "markdown",
   "metadata": {},
   "source": [
    "Categorical columns Techie, Phone and TechSupport will be set to 'No' as that is normally the default value. InternetService will be set to 'No Internet Service' instead of none or nan. "
   ]
  },
  {
   "cell_type": "code",
   "execution_count": 152,
   "metadata": {},
   "outputs": [],
   "source": [
    "# create list for Techie, Phone and TechSupport\n",
    "catnulls = [\"Techie\", \"Phone\", \"TechSupport\"]"
   ]
  },
  {
   "cell_type": "code",
   "execution_count": 153,
   "metadata": {},
   "outputs": [],
   "source": [
    "# Impute nulls for Techie, Phone and TechSupport\n",
    "for col in catnulls:\n",
    "    churn_clean[col].fillna(\"No\", inplace=True)"
   ]
  },
  {
   "cell_type": "code",
   "execution_count": 154,
   "metadata": {},
   "outputs": [
    {
     "data": {
      "text/plain": [
       "Techie         0\n",
       "Phone          0\n",
       "TechSupport    0\n",
       "dtype: int64"
      ]
     },
     "execution_count": 154,
     "metadata": {},
     "output_type": "execute_result"
    }
   ],
   "source": [
    "# verify no nulls for Techie, Phone and TechSupport\n",
    "churn_clean[catnulls].isnull().sum()"
   ]
  },
  {
   "cell_type": "code",
   "execution_count": 155,
   "metadata": {},
   "outputs": [],
   "source": [
    "# Impute nulls for InternetService\n",
    "churn_clean[\"InternetService\"].fillna(\"No Internet Service\", inplace=True)"
   ]
  },
  {
   "cell_type": "code",
   "execution_count": 156,
   "metadata": {},
   "outputs": [
    {
     "data": {
      "text/plain": [
       "0"
      ]
     },
     "execution_count": 156,
     "metadata": {},
     "output_type": "execute_result"
    }
   ],
   "source": [
    "# verify InternetService no longer has nulls\n",
    "churn_clean[\"InternetService\"].isnull().sum()"
   ]
  },
  {
   "cell_type": "code",
   "execution_count": 157,
   "metadata": {},
   "outputs": [],
   "source": [
    "# export clean copy\n",
    "churn_clean.to_csv(\"churn_clean.csv\")"
   ]
  },
  {
   "cell_type": "markdown",
   "metadata": {},
   "source": [
    "### D. Continued\n",
    "\n",
    "6.  Summary of limitations of the data cleaning process.\n",
    "\n",
    "    Most of the limitations arise from issues with the data source itself.  Columns such as Education and income rely on the accuracy of the customer input which makes it difficult as human error comes into play.  Also, its suggested that if columns such as these are going to be used for the purpose of analysis, the company should mark them as required.  This will greatly reduce the number of null values within the data set.  The process of data cleaning requires significant amounts of time and resources to properly identify missing values and clean data(Larose & Larose, 2019).  There is no one-size-fits-all method for cleaning data since every data set is different. Imputation and the removal of outliers also have thier limitations.  Imputation for replacing missing values can cause distortion or distribution issues within the data(Larose & Larose, 2019).  Outlier removal can also significantly reduce the sample size of the data.      \n",
    "\n",
    "7.  Discuss how the limitations summarized in part D6 could affect the analysis of the question or decision from part A.\n",
    "\n",
    "    With the limitations discussed above, it is possible the analysis of the data set could lead to false predictions.  It is also possible that accuracy could be questioned as well.  Human error can play a large part of that due to so many columns being entered by the customer which could lead to more inconsistencies within the data.  With a couple of the columns missing more than 20% of their data, it is possible that the imputation techniques introduced bias.  All of these should be taken into consideration in regards to the question from part A.  \n"
   ]
  },
  {
   "cell_type": "markdown",
   "metadata": {},
   "source": [
    "### PCA\n",
    "1.  PCA is based on an orthogonal mathematical concept that converts a set of observations of possibly correlated variables into a set called principal components(Middleton, 2023).  It involves the process of finding linear combinations of variables taht best explain the connection among variables(Middleton, 2023).  PCA can only  be completed with quantitative continuous variables. \n",
    "\n",
    "Below will be the process and code for PCA including normalization of the variables used.  Variables used will include: ['Tenure', 'Contacts', 'Outage_sec_perweek', 'Yearly_equip_failure', 'MonthlyCharge', 'Bandwidth_GB_Year']"
   ]
  },
  {
   "cell_type": "code",
   "execution_count": 158,
   "metadata": {},
   "outputs": [],
   "source": [
    "# copy of clean data set\n",
    "churn_scaled = churn_clean.copy()"
   ]
  },
  {
   "cell_type": "code",
   "execution_count": 159,
   "metadata": {},
   "outputs": [],
   "source": [
    "# columns for PCA\n",
    "cc = churn_scaled[\n",
    "    [\n",
    "        \"Tenure\",\n",
    "        \"Contacts\",\n",
    "        \"Outage_sec_perweek\",\n",
    "        \"Yearly_equip_failure\",\n",
    "        \"MonthlyCharge\",\n",
    "        \"Bandwidth_GB_Year\",\n",
    "    ]\n",
    "]"
   ]
  },
  {
   "cell_type": "code",
   "execution_count": 160,
   "metadata": {},
   "outputs": [],
   "source": [
    "# normalization\n",
    "churn_norm = (cc - cc.mean()) / cc.std()"
   ]
  },
  {
   "cell_type": "code",
   "execution_count": 161,
   "metadata": {},
   "outputs": [],
   "source": [
    "pca = PCA(n_components=cc.shape[1])"
   ]
  },
  {
   "cell_type": "code",
   "execution_count": 162,
   "metadata": {},
   "outputs": [
    {
     "data": {
      "text/html": [
       "<style>#sk-container-id-2 {color: black;background-color: white;}#sk-container-id-2 pre{padding: 0;}#sk-container-id-2 div.sk-toggleable {background-color: white;}#sk-container-id-2 label.sk-toggleable__label {cursor: pointer;display: block;width: 100%;margin-bottom: 0;padding: 0.3em;box-sizing: border-box;text-align: center;}#sk-container-id-2 label.sk-toggleable__label-arrow:before {content: \"▸\";float: left;margin-right: 0.25em;color: #696969;}#sk-container-id-2 label.sk-toggleable__label-arrow:hover:before {color: black;}#sk-container-id-2 div.sk-estimator:hover label.sk-toggleable__label-arrow:before {color: black;}#sk-container-id-2 div.sk-toggleable__content {max-height: 0;max-width: 0;overflow: hidden;text-align: left;background-color: #f0f8ff;}#sk-container-id-2 div.sk-toggleable__content pre {margin: 0.2em;color: black;border-radius: 0.25em;background-color: #f0f8ff;}#sk-container-id-2 input.sk-toggleable__control:checked~div.sk-toggleable__content {max-height: 200px;max-width: 100%;overflow: auto;}#sk-container-id-2 input.sk-toggleable__control:checked~label.sk-toggleable__label-arrow:before {content: \"▾\";}#sk-container-id-2 div.sk-estimator input.sk-toggleable__control:checked~label.sk-toggleable__label {background-color: #d4ebff;}#sk-container-id-2 div.sk-label input.sk-toggleable__control:checked~label.sk-toggleable__label {background-color: #d4ebff;}#sk-container-id-2 input.sk-hidden--visually {border: 0;clip: rect(1px 1px 1px 1px);clip: rect(1px, 1px, 1px, 1px);height: 1px;margin: -1px;overflow: hidden;padding: 0;position: absolute;width: 1px;}#sk-container-id-2 div.sk-estimator {font-family: monospace;background-color: #f0f8ff;border: 1px dotted black;border-radius: 0.25em;box-sizing: border-box;margin-bottom: 0.5em;}#sk-container-id-2 div.sk-estimator:hover {background-color: #d4ebff;}#sk-container-id-2 div.sk-parallel-item::after {content: \"\";width: 100%;border-bottom: 1px solid gray;flex-grow: 1;}#sk-container-id-2 div.sk-label:hover label.sk-toggleable__label {background-color: #d4ebff;}#sk-container-id-2 div.sk-serial::before {content: \"\";position: absolute;border-left: 1px solid gray;box-sizing: border-box;top: 0;bottom: 0;left: 50%;z-index: 0;}#sk-container-id-2 div.sk-serial {display: flex;flex-direction: column;align-items: center;background-color: white;padding-right: 0.2em;padding-left: 0.2em;position: relative;}#sk-container-id-2 div.sk-item {position: relative;z-index: 1;}#sk-container-id-2 div.sk-parallel {display: flex;align-items: stretch;justify-content: center;background-color: white;position: relative;}#sk-container-id-2 div.sk-item::before, #sk-container-id-2 div.sk-parallel-item::before {content: \"\";position: absolute;border-left: 1px solid gray;box-sizing: border-box;top: 0;bottom: 0;left: 50%;z-index: -1;}#sk-container-id-2 div.sk-parallel-item {display: flex;flex-direction: column;z-index: 1;position: relative;background-color: white;}#sk-container-id-2 div.sk-parallel-item:first-child::after {align-self: flex-end;width: 50%;}#sk-container-id-2 div.sk-parallel-item:last-child::after {align-self: flex-start;width: 50%;}#sk-container-id-2 div.sk-parallel-item:only-child::after {width: 0;}#sk-container-id-2 div.sk-dashed-wrapped {border: 1px dashed gray;margin: 0 0.4em 0.5em 0.4em;box-sizing: border-box;padding-bottom: 0.4em;background-color: white;}#sk-container-id-2 div.sk-label label {font-family: monospace;font-weight: bold;display: inline-block;line-height: 1.2em;}#sk-container-id-2 div.sk-label-container {text-align: center;}#sk-container-id-2 div.sk-container {/* jupyter's `normalize.less` sets `[hidden] { display: none; }` but bootstrap.min.css set `[hidden] { display: none !important; }` so we also need the `!important` here to be able to override the default hidden behavior on the sphinx rendered scikit-learn.org. See: https://github.com/scikit-learn/scikit-learn/issues/21755 */display: inline-block !important;position: relative;}#sk-container-id-2 div.sk-text-repr-fallback {display: none;}</style><div id=\"sk-container-id-2\" class=\"sk-top-container\"><div class=\"sk-text-repr-fallback\"><pre>PCA(n_components=6)</pre><b>In a Jupyter environment, please rerun this cell to show the HTML representation or trust the notebook. <br />On GitHub, the HTML representation is unable to render, please try loading this page with nbviewer.org.</b></div><div class=\"sk-container\" hidden><div class=\"sk-item\"><div class=\"sk-estimator sk-toggleable\"><input class=\"sk-toggleable__control sk-hidden--visually\" id=\"sk-estimator-id-2\" type=\"checkbox\" checked><label for=\"sk-estimator-id-2\" class=\"sk-toggleable__label sk-toggleable__label-arrow\">PCA</label><div class=\"sk-toggleable__content\"><pre>PCA(n_components=6)</pre></div></div></div></div></div>"
      ],
      "text/plain": [
       "PCA(n_components=6)"
      ]
     },
     "execution_count": 162,
     "metadata": {},
     "output_type": "execute_result"
    }
   ],
   "source": [
    "pca.fit(churn_norm)"
   ]
  },
  {
   "cell_type": "code",
   "execution_count": 163,
   "metadata": {},
   "outputs": [],
   "source": [
    "churn_pca = pd.DataFrame(\n",
    "    pca.transform(churn_norm), columns=[\"PC1\", \"PC2\", \"PC3\", \"PC4\", \"PC5\", \"PC6\"]\n",
    ")"
   ]
  },
  {
   "cell_type": "code",
   "execution_count": 164,
   "metadata": {},
   "outputs": [
    {
     "data": {
      "text/html": [
       "<div>\n",
       "<style scoped>\n",
       "    .dataframe tbody tr th:only-of-type {\n",
       "        vertical-align: middle;\n",
       "    }\n",
       "\n",
       "    .dataframe tbody tr th {\n",
       "        vertical-align: top;\n",
       "    }\n",
       "\n",
       "    .dataframe thead th {\n",
       "        text-align: right;\n",
       "    }\n",
       "</style>\n",
       "<table border=\"1\" class=\"dataframe\">\n",
       "  <thead>\n",
       "    <tr style=\"text-align: right;\">\n",
       "      <th></th>\n",
       "      <th>PC1</th>\n",
       "      <th>PC2</th>\n",
       "      <th>PC3</th>\n",
       "      <th>PC4</th>\n",
       "      <th>PC5</th>\n",
       "      <th>PC6</th>\n",
       "    </tr>\n",
       "  </thead>\n",
       "  <tbody>\n",
       "    <tr>\n",
       "      <th>Tenure</th>\n",
       "      <td>0.705093</td>\n",
       "      <td>-0.062149</td>\n",
       "      <td>0.001288</td>\n",
       "      <td>-0.004969</td>\n",
       "      <td>0.037895</td>\n",
       "      <td>0.705351</td>\n",
       "    </tr>\n",
       "    <tr>\n",
       "      <th>Contacts</th>\n",
       "      <td>-0.000792</td>\n",
       "      <td>0.004832</td>\n",
       "      <td>-0.677791</td>\n",
       "      <td>0.734910</td>\n",
       "      <td>0.020980</td>\n",
       "      <td>0.006506</td>\n",
       "    </tr>\n",
       "    <tr>\n",
       "      <th>Outage_sec_perweek</th>\n",
       "      <td>0.024033</td>\n",
       "      <td>0.706608</td>\n",
       "      <td>0.039253</td>\n",
       "      <td>0.011425</td>\n",
       "      <td>0.706014</td>\n",
       "      <td>0.000313</td>\n",
       "    </tr>\n",
       "    <tr>\n",
       "      <th>Yearly_equip_failure</th>\n",
       "      <td>0.013539</td>\n",
       "      <td>0.063653</td>\n",
       "      <td>0.727171</td>\n",
       "      <td>0.673532</td>\n",
       "      <td>-0.115497</td>\n",
       "      <td>0.001698</td>\n",
       "    </tr>\n",
       "    <tr>\n",
       "      <th>MonthlyCharge</th>\n",
       "      <td>0.047530</td>\n",
       "      <td>0.701897</td>\n",
       "      <td>-0.100839</td>\n",
       "      <td>-0.078115</td>\n",
       "      <td>-0.697257</td>\n",
       "      <td>0.051426</td>\n",
       "    </tr>\n",
       "    <tr>\n",
       "      <th>Bandwidth_GB_Year</th>\n",
       "      <td>0.706982</td>\n",
       "      <td>-0.010439</td>\n",
       "      <td>-0.010524</td>\n",
       "      <td>-0.002255</td>\n",
       "      <td>-0.012683</td>\n",
       "      <td>-0.706959</td>\n",
       "    </tr>\n",
       "  </tbody>\n",
       "</table>\n",
       "</div>"
      ],
      "text/plain": [
       "                           PC1       PC2       PC3       PC4       PC5  \\\n",
       "Tenure                0.705093 -0.062149  0.001288 -0.004969  0.037895   \n",
       "Contacts             -0.000792  0.004832 -0.677791  0.734910  0.020980   \n",
       "Outage_sec_perweek    0.024033  0.706608  0.039253  0.011425  0.706014   \n",
       "Yearly_equip_failure  0.013539  0.063653  0.727171  0.673532 -0.115497   \n",
       "MonthlyCharge         0.047530  0.701897 -0.100839 -0.078115 -0.697257   \n",
       "Bandwidth_GB_Year     0.706982 -0.010439 -0.010524 -0.002255 -0.012683   \n",
       "\n",
       "                           PC6  \n",
       "Tenure                0.705351  \n",
       "Contacts              0.006506  \n",
       "Outage_sec_perweek    0.000313  \n",
       "Yearly_equip_failure  0.001698  \n",
       "MonthlyCharge         0.051426  \n",
       "Bandwidth_GB_Year    -0.706959  "
      ]
     },
     "execution_count": 164,
     "metadata": {},
     "output_type": "execute_result"
    }
   ],
   "source": [
    "# pca loadings\n",
    "loadings = pd.DataFrame(\n",
    "    pca.components_.T,\n",
    "    columns=[\"PC1\", \"PC2\", \"PC3\", \"PC4\", \"PC5\", \"PC6\"],\n",
    "    index=cc.columns,\n",
    ")\n",
    "loadings"
   ]
  },
  {
   "cell_type": "markdown",
   "metadata": {},
   "source": [
    "2.  Justify the reduced number of the principal components and include a screenshot of a scree plot.  Explanation of the reduced number of principal components will be below code and visualzation.  "
   ]
  },
  {
   "cell_type": "code",
   "execution_count": 165,
   "metadata": {},
   "outputs": [
    {
     "data": {
      "image/png": "[encoded data removed]",
      "text/plain": [
       "<Figure size 640x480 with 1 Axes>"
      ]
     },
     "metadata": {},
     "output_type": "display_data"
    }
   ],
   "source": [
    "# PC selection and visualization\n",
    "cov_matrix = np.dot(churn_norm.T, churn_norm) / cc.shape[0]\n",
    "eigenvalues = [\n",
    "    np.dot(eigenvector.T, np.dot(cov_matrix, eigenvector))\n",
    "    for eigenvector in pca.components_\n",
    "]\n",
    "plt.plot(eigenvalues)\n",
    "plt.xlabel(\"number of components\")\n",
    "plt.ylabel(\"eigenvalue\")\n",
    "plt.axhline(y=1, color=\"red\")\n",
    "plt.show()"
   ]
  },
  {
   "cell_type": "markdown",
   "metadata": {},
   "source": [
    "According to the Kaiser Rule, the number of components to retain from PCA is equal to the number of eigenvalues greater than one.   An eigenvalue greater than one suggests that the corresponding principal component captures meaningful information from the data.  The larger the PCA the more significant it is in explaining variations in the dataset(Lacrose & Lacrose, 2019).  As we can see from the scree plot above PC's 0,1 & 2 are above the eigenvalue of 1 so they should be kept.  \n",
    "\n",
    "3.  PCA Benefits\n",
    "\n",
    "When PCA is performed, patterns in the data are identified and variables are grouped based on the relationship that exists among them(Middleton, 2023).  PCA can also reduce the dimensionality of a data set making interpretation and visualization less complex.  By making it less complex, it also reduces time and resources needed for analysis without sacrificing information in the variable.\n",
    "\n",
    "# Part IV.  Supporting Documents\n",
    "\n",
    "### F. Panopto Video Link\n",
    "\n",
    "\n",
    "\n",
    "###  Sources and References\n",
    "\n",
    "Middleton, Dr. K. (2023). Getting Started with D206 Missing Values [Review of Getting Started with D206 Missing Values]. https://wgu.hosted.panopto.com/Panopto/Pages/Viewer.aspx?id=5cb19ab2-993f-4d04-af47-b07d011b3916\n",
    "\n",
    "\n",
    "Middleton, Dr. K. (2023). Getting Started with D206 Data Cleaning Essentials [Review of Getting Started with D206 Data Cleaning Essentials]. https://wgu.hosted.panopto.com/Panopto/Pages/Viewer.aspx?id=cf0de116-4cdf-4306-9284-b07d00ee8fcb\n",
    "\n",
    "\n",
    "Middleton, Dr. K. (2023). D206 - Getting Started with D206 Outliers [Review of D206 - Getting Started with D206 Outliers]. https://wgu.hosted.panopto.com/Panopto/Pages/Viewer.aspx?id=d2ce42e1-c2db-4e67-99bc-b07d00ee8bf0\n",
    "\n",
    "\n",
    "Middleton, Dr. K. (2023). D206 - Getting Started with D206 Missing Values [Review of D206 - Getting Started with D206 Missing Values]. https://wgu.hosted.panopto.com/Panopto/Pages/Viewer.aspx?id=5cb19ab2-993f-4d04-af47-b07d011b3916\n",
    "\n",
    "‌‌\n",
    "Middleton, Dr. K. (2023). Getting Started with D206 PCA [Review of Getting Started with D206 PCA]. https://wgu.hosted.panopto.com/Panopto/Pages/Viewer.aspx?id=a371ff38-6c4f-403a-8018-b07d00ee8ba3\n",
    "\n",
    "\n",
    "Larose, C. D., & Larose, D. T. (2019). Data science using Python and R. Wiley.\n"
   ]
  }
 ],
 "metadata": {
  "kernelspec": {
   "display_name": "Python 3",
   "language": "python",
   "name": "python3"
  },
  "language_info": {
   "codemirror_mode": {
    "name": "ipython",
    "version": 3
   },
   "file_extension": ".py",
   "mimetype": "text/x-python",
   "name": "python",
   "nbconvert_exporter": "python",
   "pygments_lexer": "ipython3",
   "version": "3.11.7"
  }
 },
 "nbformat": 4,
 "nbformat_minor": 2
}
